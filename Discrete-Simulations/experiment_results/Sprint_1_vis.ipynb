{
 "cells": [
  {
   "cell_type": "code",
   "execution_count": 40,
   "id": "2cde9b66",
   "metadata": {},
   "outputs": [],
   "source": [
    "import plotly.express as px\n",
    "import pandas as pd\n",
    "import plotly.graph_objects as go"
   ]
  },
  {
   "cell_type": "code",
   "execution_count": 57,
   "id": "ea2d1da0",
   "metadata": {},
   "outputs": [],
   "source": [
    "df = pd.read_csv('test_experiments_more_levels.csv')"
   ]
  },
  {
   "cell_type": "code",
   "execution_count": 58,
   "id": "da7343f1",
   "metadata": {},
   "outputs": [
    {
     "data": {
      "text/html": [
       "<div>\n",
       "<style scoped>\n",
       "    .dataframe tbody tr th:only-of-type {\n",
       "        vertical-align: middle;\n",
       "    }\n",
       "\n",
       "    .dataframe tbody tr th {\n",
       "        vertical-align: top;\n",
       "    }\n",
       "\n",
       "    .dataframe thead th {\n",
       "        text-align: right;\n",
       "    }\n",
       "</style>\n",
       "<table border=\"1\" class=\"dataframe\">\n",
       "  <thead>\n",
       "    <tr style=\"text-align: right;\">\n",
       "      <th></th>\n",
       "      <th>robot</th>\n",
       "      <th>grid</th>\n",
       "      <th>battery_p</th>\n",
       "      <th>mean_cleaned</th>\n",
       "      <th>std_cleaned</th>\n",
       "      <th>mean_efficiency</th>\n",
       "      <th>std_efficiency</th>\n",
       "      <th>mean_time_taken</th>\n",
       "      <th>std_time_taken</th>\n",
       "    </tr>\n",
       "  </thead>\n",
       "  <tbody>\n",
       "    <tr>\n",
       "      <th>0</th>\n",
       "      <td>greedy_random</td>\n",
       "      <td>death</td>\n",
       "      <td>0.1</td>\n",
       "      <td>62.500000</td>\n",
       "      <td>0.000000e+00</td>\n",
       "      <td>100.000000</td>\n",
       "      <td>0.000000</td>\n",
       "      <td>0.014050</td>\n",
       "      <td>0.072827</td>\n",
       "    </tr>\n",
       "    <tr>\n",
       "      <th>1</th>\n",
       "      <td>rotator</td>\n",
       "      <td>death</td>\n",
       "      <td>0.1</td>\n",
       "      <td>12.500000</td>\n",
       "      <td>0.000000e+00</td>\n",
       "      <td>100.000000</td>\n",
       "      <td>0.000000</td>\n",
       "      <td>0.000152</td>\n",
       "      <td>0.000059</td>\n",
       "    </tr>\n",
       "    <tr>\n",
       "      <th>2</th>\n",
       "      <td>greedy_random</td>\n",
       "      <td>death</td>\n",
       "      <td>0.3</td>\n",
       "      <td>62.500000</td>\n",
       "      <td>0.000000e+00</td>\n",
       "      <td>100.000000</td>\n",
       "      <td>0.000000</td>\n",
       "      <td>0.000605</td>\n",
       "      <td>0.000158</td>\n",
       "    </tr>\n",
       "    <tr>\n",
       "      <th>3</th>\n",
       "      <td>rotator</td>\n",
       "      <td>death</td>\n",
       "      <td>0.3</td>\n",
       "      <td>12.500000</td>\n",
       "      <td>0.000000e+00</td>\n",
       "      <td>100.000000</td>\n",
       "      <td>0.000000</td>\n",
       "      <td>0.000143</td>\n",
       "      <td>0.000031</td>\n",
       "    </tr>\n",
       "    <tr>\n",
       "      <th>4</th>\n",
       "      <td>greedy_random</td>\n",
       "      <td>death</td>\n",
       "      <td>0.5</td>\n",
       "      <td>62.500000</td>\n",
       "      <td>0.000000e+00</td>\n",
       "      <td>100.000000</td>\n",
       "      <td>0.000000</td>\n",
       "      <td>0.000523</td>\n",
       "      <td>0.000083</td>\n",
       "    </tr>\n",
       "    <tr>\n",
       "      <th>...</th>\n",
       "      <td>...</td>\n",
       "      <td>...</td>\n",
       "      <td>...</td>\n",
       "      <td>...</td>\n",
       "      <td>...</td>\n",
       "      <td>...</td>\n",
       "      <td>...</td>\n",
       "      <td>...</td>\n",
       "      <td>...</td>\n",
       "    </tr>\n",
       "    <tr>\n",
       "      <th>85</th>\n",
       "      <td>rotator</td>\n",
       "      <td>example-random-level</td>\n",
       "      <td>0.1</td>\n",
       "      <td>1.016949</td>\n",
       "      <td>2.220446e-16</td>\n",
       "      <td>24.359278</td>\n",
       "      <td>2.999430</td>\n",
       "      <td>0.086528</td>\n",
       "      <td>0.022464</td>\n",
       "    </tr>\n",
       "    <tr>\n",
       "      <th>86</th>\n",
       "      <td>greedy_random</td>\n",
       "      <td>example-random-level</td>\n",
       "      <td>0.3</td>\n",
       "      <td>79.514124</td>\n",
       "      <td>1.574178e+01</td>\n",
       "      <td>81.213709</td>\n",
       "      <td>7.563320</td>\n",
       "      <td>0.030159</td>\n",
       "      <td>0.004405</td>\n",
       "    </tr>\n",
       "    <tr>\n",
       "      <th>87</th>\n",
       "      <td>rotator</td>\n",
       "      <td>example-random-level</td>\n",
       "      <td>0.3</td>\n",
       "      <td>1.016949</td>\n",
       "      <td>2.220446e-16</td>\n",
       "      <td>46.966205</td>\n",
       "      <td>3.128591</td>\n",
       "      <td>0.019329</td>\n",
       "      <td>0.003500</td>\n",
       "    </tr>\n",
       "    <tr>\n",
       "      <th>88</th>\n",
       "      <td>greedy_random</td>\n",
       "      <td>example-random-level</td>\n",
       "      <td>0.5</td>\n",
       "      <td>53.728814</td>\n",
       "      <td>7.695114e+00</td>\n",
       "      <td>91.663325</td>\n",
       "      <td>5.356236</td>\n",
       "      <td>0.017827</td>\n",
       "      <td>0.002742</td>\n",
       "    </tr>\n",
       "    <tr>\n",
       "      <th>89</th>\n",
       "      <td>rotator</td>\n",
       "      <td>example-random-level</td>\n",
       "      <td>0.5</td>\n",
       "      <td>1.016949</td>\n",
       "      <td>2.220446e-16</td>\n",
       "      <td>59.818265</td>\n",
       "      <td>3.415855</td>\n",
       "      <td>0.009924</td>\n",
       "      <td>0.001902</td>\n",
       "    </tr>\n",
       "  </tbody>\n",
       "</table>\n",
       "<p>90 rows × 9 columns</p>\n",
       "</div>"
      ],
      "text/plain": [
       "            robot                  grid  battery_p  mean_cleaned  \\\n",
       "0   greedy_random                 death        0.1     62.500000   \n",
       "1         rotator                 death        0.1     12.500000   \n",
       "2   greedy_random                 death        0.3     62.500000   \n",
       "3         rotator                 death        0.3     12.500000   \n",
       "4   greedy_random                 death        0.5     62.500000   \n",
       "..            ...                   ...        ...           ...   \n",
       "85        rotator  example-random-level        0.1      1.016949   \n",
       "86  greedy_random  example-random-level        0.3     79.514124   \n",
       "87        rotator  example-random-level        0.3      1.016949   \n",
       "88  greedy_random  example-random-level        0.5     53.728814   \n",
       "89        rotator  example-random-level        0.5      1.016949   \n",
       "\n",
       "     std_cleaned  mean_efficiency  std_efficiency  mean_time_taken  \\\n",
       "0   0.000000e+00       100.000000        0.000000         0.014050   \n",
       "1   0.000000e+00       100.000000        0.000000         0.000152   \n",
       "2   0.000000e+00       100.000000        0.000000         0.000605   \n",
       "3   0.000000e+00       100.000000        0.000000         0.000143   \n",
       "4   0.000000e+00       100.000000        0.000000         0.000523   \n",
       "..           ...              ...             ...              ...   \n",
       "85  2.220446e-16        24.359278        2.999430         0.086528   \n",
       "86  1.574178e+01        81.213709        7.563320         0.030159   \n",
       "87  2.220446e-16        46.966205        3.128591         0.019329   \n",
       "88  7.695114e+00        91.663325        5.356236         0.017827   \n",
       "89  2.220446e-16        59.818265        3.415855         0.009924   \n",
       "\n",
       "    std_time_taken  \n",
       "0         0.072827  \n",
       "1         0.000059  \n",
       "2         0.000158  \n",
       "3         0.000031  \n",
       "4         0.000083  \n",
       "..             ...  \n",
       "85        0.022464  \n",
       "86        0.004405  \n",
       "87        0.003500  \n",
       "88        0.002742  \n",
       "89        0.001902  \n",
       "\n",
       "[90 rows x 9 columns]"
      ]
     },
     "execution_count": 58,
     "metadata": {},
     "output_type": "execute_result"
    }
   ],
   "source": [
    "df"
   ]
  },
  {
   "cell_type": "code",
   "execution_count": 59,
   "id": "2fa6dfd7",
   "metadata": {},
   "outputs": [],
   "source": [
    "# df['battery_p'] = df['battery_p'].astype(str)"
   ]
  },
  {
   "cell_type": "code",
   "execution_count": 60,
   "id": "bce0183b",
   "metadata": {},
   "outputs": [],
   "source": [
    "from statistics import NormalDist\n",
    "def confidence_interval(data, confidence=0.95):\n",
    "  dist = NormalDist.from_samples(data)\n",
    "  z = NormalDist().inv_cdf((1 + confidence) / 2.)\n",
    "  h = dist.stdev * z / ((len(data) - 1) ** .5)\n",
    "  return h"
   ]
  },
  {
   "cell_type": "code",
   "execution_count": 61,
   "id": "90a0eb58",
   "metadata": {},
   "outputs": [],
   "source": [
    "CI = confidence_interval(df.mean_efficiency, 0.95)"
   ]
  },
  {
   "cell_type": "code",
   "execution_count": 62,
   "id": "5f5d038a",
   "metadata": {},
   "outputs": [
    {
     "data": {
      "text/plain": [
       "7.211893945566494"
      ]
     },
     "execution_count": 62,
     "metadata": {},
     "output_type": "execute_result"
    }
   ],
   "source": [
    "CI"
   ]
  },
  {
   "cell_type": "code",
   "execution_count": 78,
   "id": "55a4ad9f",
   "metadata": {},
   "outputs": [
    {
     "data": {
      "application/vnd.plotly.v1+json": {
       "config": {
        "plotlyServerURL": "https://plot.ly"
       },
       "data": [
        {
         "alignmentgroup": "True",
         "hovertemplate": "robot=greedy_random<br>grid=death<br>battery_p=%{x}<br>value=%{y}<extra></extra>",
         "legendgroup": "greedy_random",
         "marker": {
          "color": "#636efa"
         },
         "name": "greedy_random",
         "offsetgroup": "greedy_random",
         "orientation": "v",
         "showlegend": true,
         "textposition": "auto",
         "type": "bar",
         "x": [
          0.1,
          0.3,
          0.5,
          0.1,
          0.3,
          0.5
         ],
         "xaxis": "x13",
         "y": [
          100,
          100,
          100,
          62.5,
          62.5,
          62.5
         ],
         "yaxis": "y13"
        },
        {
         "alignmentgroup": "True",
         "hovertemplate": "robot=greedy_random<br>grid=death_room<br>battery_p=%{x}<br>value=%{y}<extra></extra>",
         "legendgroup": "greedy_random",
         "marker": {
          "color": "#636efa"
         },
         "name": "greedy_random",
         "offsetgroup": "greedy_random",
         "orientation": "v",
         "showlegend": false,
         "textposition": "auto",
         "type": "bar",
         "x": [
          0.1,
          0.3,
          0.5,
          0.1,
          0.3,
          0.5
         ],
         "xaxis": "x14",
         "y": [
          100,
          100,
          100,
          33.333333333333336,
          33.333333333333336,
          33.333333333333336
         ],
         "yaxis": "y14"
        },
        {
         "alignmentgroup": "True",
         "hovertemplate": "robot=greedy_random<br>grid=empty_small_room<br>battery_p=%{x}<br>value=%{y}<extra></extra>",
         "legendgroup": "greedy_random",
         "marker": {
          "color": "#636efa"
         },
         "name": "greedy_random",
         "offsetgroup": "greedy_random",
         "orientation": "v",
         "showlegend": false,
         "textposition": "auto",
         "type": "bar",
         "x": [
          0.1,
          0.3,
          0.5,
          0.1,
          0.3,
          0.5
         ],
         "xaxis": "x15",
         "y": [
          100,
          100,
          100,
          100,
          100,
          100
         ],
         "yaxis": "y15"
        },
        {
         "alignmentgroup": "True",
         "hovertemplate": "robot=greedy_random<br>grid=empty_big_room<br>battery_p=%{x}<br>value=%{y}<extra></extra>",
         "legendgroup": "greedy_random",
         "marker": {
          "color": "#636efa"
         },
         "name": "greedy_random",
         "offsetgroup": "greedy_random",
         "orientation": "v",
         "showlegend": false,
         "textposition": "auto",
         "type": "bar",
         "x": [
          0.1,
          0.3,
          0.5,
          0.1,
          0.3,
          0.5
         ],
         "xaxis": "x10",
         "y": [
          100,
          100,
          100,
          100,
          100,
          99.82142857142856
         ],
         "yaxis": "y10"
        },
        {
         "alignmentgroup": "True",
         "hovertemplate": "robot=greedy_random<br>grid=example-random-house-0<br>battery_p=%{x}<br>value=%{y}<extra></extra>",
         "legendgroup": "greedy_random",
         "marker": {
          "color": "#636efa"
         },
         "name": "greedy_random",
         "offsetgroup": "greedy_random",
         "orientation": "v",
         "showlegend": false,
         "textposition": "auto",
         "type": "bar",
         "x": [
          0.1,
          0.3,
          0.5,
          0.1,
          0.3,
          0.5
         ],
         "xaxis": "x11",
         "y": [
          14.306088492355768,
          34.68758174822977,
          48.8002109791838,
          61.363636363636346,
          61.363636363636346,
          60.681818181818166
         ],
         "yaxis": "y11"
        },
        {
         "alignmentgroup": "True",
         "hovertemplate": "robot=greedy_random<br>grid=example-random-house-1<br>battery_p=%{x}<br>value=%{y}<extra></extra>",
         "legendgroup": "greedy_random",
         "marker": {
          "color": "#636efa"
         },
         "name": "greedy_random",
         "offsetgroup": "greedy_random",
         "orientation": "v",
         "showlegend": false,
         "textposition": "auto",
         "type": "bar",
         "x": [
          0.1,
          0.3,
          0.5,
          0.1,
          0.3,
          0.5
         ],
         "xaxis": "x12",
         "y": [
          8.16911550498393,
          22.53840338588825,
          34.275285765505124,
          52.6315789473684,
          52.6315789473684,
          52.6315789473684
         ],
         "yaxis": "y12"
        },
        {
         "alignmentgroup": "True",
         "hovertemplate": "robot=greedy_random<br>grid=example-random-house-2<br>battery_p=%{x}<br>value=%{y}<extra></extra>",
         "legendgroup": "greedy_random",
         "marker": {
          "color": "#636efa"
         },
         "name": "greedy_random",
         "offsetgroup": "greedy_random",
         "orientation": "v",
         "showlegend": false,
         "textposition": "auto",
         "type": "bar",
         "x": [
          0.1,
          0.3,
          0.5,
          0.1,
          0.3,
          0.5
         ],
         "xaxis": "x7",
         "y": [
          9.022641531628365,
          25.755452994937038,
          39.15166062116021,
          65.625,
          65.625,
          65.625
         ],
         "yaxis": "y7"
        },
        {
         "alignmentgroup": "True",
         "hovertemplate": "robot=greedy_random<br>grid=example-random-house-3<br>battery_p=%{x}<br>value=%{y}<extra></extra>",
         "legendgroup": "greedy_random",
         "marker": {
          "color": "#636efa"
         },
         "name": "greedy_random",
         "offsetgroup": "greedy_random",
         "orientation": "v",
         "showlegend": false,
         "textposition": "auto",
         "type": "bar",
         "x": [
          0.1,
          0.3,
          0.5,
          0.1,
          0.3,
          0.5
         ],
         "xaxis": "x8",
         "y": [
          16.4041887459042,
          44.03955099472192,
          63.340886499306,
          72.34042553191492,
          70.56737588652483,
          62.52955082742317
         ],
         "yaxis": "y8"
        },
        {
         "alignmentgroup": "True",
         "hovertemplate": "robot=greedy_random<br>grid=example-random-house-4<br>battery_p=%{x}<br>value=%{y}<extra></extra>",
         "legendgroup": "greedy_random",
         "marker": {
          "color": "#636efa"
         },
         "name": "greedy_random",
         "offsetgroup": "greedy_random",
         "orientation": "v",
         "showlegend": false,
         "textposition": "auto",
         "type": "bar",
         "x": [
          0.1,
          0.3,
          0.5,
          0.1,
          0.3,
          0.5
         ],
         "xaxis": "x9",
         "y": [
          13.36533788698879,
          33.7889321899379,
          49.32469626969455,
          57.44680851063829,
          57.44680851063829,
          56.27659574468085
         ],
         "yaxis": "y9"
        },
        {
         "alignmentgroup": "True",
         "hovertemplate": "robot=greedy_random<br>grid=goal_room<br>battery_p=%{x}<br>value=%{y}<extra></extra>",
         "legendgroup": "greedy_random",
         "marker": {
          "color": "#636efa"
         },
         "name": "greedy_random",
         "offsetgroup": "greedy_random",
         "orientation": "v",
         "showlegend": false,
         "textposition": "auto",
         "type": "bar",
         "x": [
          0.1,
          0.3,
          0.5,
          0.1,
          0.3,
          0.5
         ],
         "xaxis": "x4",
         "y": [
          82.70945081956572,
          84.71947468829335,
          86.91075286172136,
          100,
          100,
          100
         ],
         "yaxis": "y4"
        },
        {
         "alignmentgroup": "True",
         "hovertemplate": "robot=greedy_random<br>grid=house<br>battery_p=%{x}<br>value=%{y}<extra></extra>",
         "legendgroup": "greedy_random",
         "marker": {
          "color": "#636efa"
         },
         "name": "greedy_random",
         "offsetgroup": "greedy_random",
         "orientation": "v",
         "showlegend": false,
         "textposition": "auto",
         "type": "bar",
         "x": [
          0.1,
          0.3,
          0.5,
          0.1,
          0.3,
          0.5
         ],
         "xaxis": "x5",
         "y": [
          13.676616502005876,
          34.776373385163346,
          50.29028375590554,
          64.70588235294119,
          64.70588235294119,
          64.70588235294119
         ],
         "yaxis": "y5"
        },
        {
         "alignmentgroup": "True",
         "hovertemplate": "robot=greedy_random<br>grid=snake<br>battery_p=%{x}<br>value=%{y}<extra></extra>",
         "legendgroup": "greedy_random",
         "marker": {
          "color": "#636efa"
         },
         "name": "greedy_random",
         "offsetgroup": "greedy_random",
         "orientation": "v",
         "showlegend": false,
         "textposition": "auto",
         "type": "bar",
         "x": [
          0.1,
          0.3,
          0.5,
          0.1,
          0.3,
          0.5
         ],
         "xaxis": "x6",
         "y": [
          50.71103839213394,
          45.615620433348745,
          47.04071248847845,
          100,
          100,
          96.8
         ],
         "yaxis": "y6"
        },
        {
         "alignmentgroup": "True",
         "hovertemplate": "robot=greedy_random<br>grid=obstacle_room<br>battery_p=%{x}<br>value=%{y}<extra></extra>",
         "legendgroup": "greedy_random",
         "marker": {
          "color": "#636efa"
         },
         "name": "greedy_random",
         "offsetgroup": "greedy_random",
         "orientation": "v",
         "showlegend": false,
         "textposition": "auto",
         "type": "bar",
         "x": [
          0.1,
          0.3,
          0.5,
          0.1,
          0.3,
          0.5
         ],
         "xaxis": "x",
         "y": [
          65.71139507316865,
          69.67830270042128,
          70.00022806341367,
          100,
          100,
          100
         ],
         "yaxis": "y"
        },
        {
         "alignmentgroup": "True",
         "hovertemplate": "robot=greedy_random<br>grid=no_obstacle_room<br>battery_p=%{x}<br>value=%{y}<extra></extra>",
         "legendgroup": "greedy_random",
         "marker": {
          "color": "#636efa"
         },
         "name": "greedy_random",
         "offsetgroup": "greedy_random",
         "orientation": "v",
         "showlegend": false,
         "textposition": "auto",
         "type": "bar",
         "x": [
          0.1,
          0.3,
          0.5,
          0.1,
          0.3,
          0.5
         ],
         "xaxis": "x2",
         "y": [
          100,
          100,
          100,
          100,
          100,
          100
         ],
         "yaxis": "y2"
        },
        {
         "alignmentgroup": "True",
         "hovertemplate": "robot=greedy_random<br>grid=example-random-level<br>battery_p=%{x}<br>value=%{y}<extra></extra>",
         "legendgroup": "greedy_random",
         "marker": {
          "color": "#636efa"
         },
         "name": "greedy_random",
         "offsetgroup": "greedy_random",
         "orientation": "v",
         "showlegend": false,
         "textposition": "auto",
         "type": "bar",
         "x": [
          0.1,
          0.3,
          0.5,
          0.1,
          0.3,
          0.5
         ],
         "xaxis": "x3",
         "y": [
          58.190913560377446,
          81.21370891259122,
          91.66332483537144,
          99.86440677966102,
          79.51412429378531,
          53.72881355932204
         ],
         "yaxis": "y3"
        },
        {
         "alignmentgroup": "True",
         "hovertemplate": "robot=rotator<br>grid=death<br>battery_p=%{x}<br>value=%{y}<extra></extra>",
         "legendgroup": "rotator",
         "marker": {
          "color": "#EF553B"
         },
         "name": "rotator",
         "offsetgroup": "rotator",
         "orientation": "v",
         "showlegend": true,
         "textposition": "auto",
         "type": "bar",
         "x": [
          0.1,
          0.3,
          0.5,
          0.1,
          0.3,
          0.5
         ],
         "xaxis": "x13",
         "y": [
          100,
          100,
          100,
          12.5,
          12.5,
          12.5
         ],
         "yaxis": "y13"
        },
        {
         "alignmentgroup": "True",
         "hovertemplate": "robot=rotator<br>grid=death_room<br>battery_p=%{x}<br>value=%{y}<extra></extra>",
         "legendgroup": "rotator",
         "marker": {
          "color": "#EF553B"
         },
         "name": "rotator",
         "offsetgroup": "rotator",
         "orientation": "v",
         "showlegend": false,
         "textposition": "auto",
         "type": "bar",
         "x": [
          0.1,
          0.3,
          0.5,
          0.1,
          0.3,
          0.5
         ],
         "xaxis": "x14",
         "y": [
          6.25569264399074,
          16.19871239107621,
          23.81257792544778,
          4.761904761904761,
          4.761904761904761,
          4.761904761904761
         ],
         "yaxis": "y14"
        },
        {
         "alignmentgroup": "True",
         "hovertemplate": "robot=rotator<br>grid=empty_small_room<br>battery_p=%{x}<br>value=%{y}<extra></extra>",
         "legendgroup": "rotator",
         "marker": {
          "color": "#EF553B"
         },
         "name": "rotator",
         "offsetgroup": "rotator",
         "orientation": "v",
         "showlegend": false,
         "textposition": "auto",
         "type": "bar",
         "x": [
          0.1,
          0.3,
          0.5,
          0.1,
          0.3,
          0.5
         ],
         "xaxis": "x15",
         "y": [
          2.4943940718040265,
          7.063552183232155,
          11.406856974054111,
          12.5,
          12.5,
          12.5
         ],
         "yaxis": "y15"
        },
        {
         "alignmentgroup": "True",
         "hovertemplate": "robot=rotator<br>grid=empty_big_room<br>battery_p=%{x}<br>value=%{y}<extra></extra>",
         "legendgroup": "rotator",
         "marker": {
          "color": "#EF553B"
         },
         "name": "rotator",
         "offsetgroup": "rotator",
         "orientation": "v",
         "showlegend": false,
         "textposition": "auto",
         "type": "bar",
         "x": [
          0.1,
          0.3,
          0.5,
          0.1,
          0.3,
          0.5
         ],
         "xaxis": "x10",
         "y": [
          14.718058460306786,
          35.266603189899186,
          46.47079794313945,
          1.7857142857142854,
          1.7857142857142854,
          1.7857142857142854
         ],
         "yaxis": "y10"
        },
        {
         "alignmentgroup": "True",
         "hovertemplate": "robot=rotator<br>grid=example-random-house-0<br>battery_p=%{x}<br>value=%{y}<extra></extra>",
         "legendgroup": "rotator",
         "marker": {
          "color": "#EF553B"
         },
         "name": "rotator",
         "offsetgroup": "rotator",
         "orientation": "v",
         "showlegend": false,
         "textposition": "auto",
         "type": "bar",
         "x": [
          0.1,
          0.3,
          0.5,
          0.1,
          0.3,
          0.5
         ],
         "xaxis": "x11",
         "y": [
          8.081087138136477,
          20.923431161853816,
          32.055703093600734,
          3.4090909090909083,
          3.4090909090909083,
          3.4090909090909083
         ],
         "yaxis": "y11"
        },
        {
         "alignmentgroup": "True",
         "hovertemplate": "robot=rotator<br>grid=example-random-house-1<br>battery_p=%{x}<br>value=%{y}<extra></extra>",
         "legendgroup": "rotator",
         "marker": {
          "color": "#EF553B"
         },
         "name": "rotator",
         "offsetgroup": "rotator",
         "orientation": "v",
         "showlegend": false,
         "textposition": "auto",
         "type": "bar",
         "x": [
          0.1,
          0.3,
          0.5,
          0.1,
          0.3,
          0.5
         ],
         "xaxis": "x12",
         "y": [
          5.435317762627959,
          14.476147860329508,
          22.61159030997957,
          5.263157894736843,
          5.263157894736843,
          5.263157894736843
         ],
         "yaxis": "y12"
        },
        {
         "alignmentgroup": "True",
         "hovertemplate": "robot=rotator<br>grid=example-random-house-2<br>battery_p=%{x}<br>value=%{y}<extra></extra>",
         "legendgroup": "rotator",
         "marker": {
          "color": "#EF553B"
         },
         "name": "rotator",
         "offsetgroup": "rotator",
         "orientation": "v",
         "showlegend": false,
         "textposition": "auto",
         "type": "bar",
         "x": [
          0.1,
          0.3,
          0.5,
          0.1,
          0.3,
          0.5
         ],
         "xaxis": "x7",
         "y": [
          5.926186340195176,
          16.386715051810167,
          25.308856758517816,
          4.6875,
          4.6875,
          4.6875
         ],
         "yaxis": "y7"
        },
        {
         "alignmentgroup": "True",
         "hovertemplate": "robot=rotator<br>grid=example-random-house-3<br>battery_p=%{x}<br>value=%{y}<extra></extra>",
         "legendgroup": "rotator",
         "marker": {
          "color": "#EF553B"
         },
         "name": "rotator",
         "offsetgroup": "rotator",
         "orientation": "v",
         "showlegend": false,
         "textposition": "auto",
         "type": "bar",
         "x": [
          0.1,
          0.3,
          0.5,
          0.1,
          0.3,
          0.5
         ],
         "xaxis": "x8",
         "y": [
          12.461394819811233,
          30.060146190657687,
          41.45827136613082,
          2.1276595744680846,
          2.1276595744680846,
          2.1276595744680846
         ],
         "yaxis": "y8"
        },
        {
         "alignmentgroup": "True",
         "hovertemplate": "robot=rotator<br>grid=example-random-house-4<br>battery_p=%{x}<br>value=%{y}<extra></extra>",
         "legendgroup": "rotator",
         "marker": {
          "color": "#EF553B"
         },
         "name": "rotator",
         "offsetgroup": "rotator",
         "orientation": "v",
         "showlegend": false,
         "textposition": "auto",
         "type": "bar",
         "x": [
          0.1,
          0.3,
          0.5,
          0.1,
          0.3,
          0.5
         ],
         "xaxis": "x9",
         "y": [
          8.722470529702782,
          22.58692235458858,
          33.538002343011506,
          3.1914893617021267,
          3.1914893617021267,
          3.1914893617021267
         ],
         "yaxis": "y9"
        },
        {
         "alignmentgroup": "True",
         "hovertemplate": "robot=rotator<br>grid=goal_room<br>battery_p=%{x}<br>value=%{y}<extra></extra>",
         "legendgroup": "rotator",
         "marker": {
          "color": "#EF553B"
         },
         "name": "rotator",
         "offsetgroup": "rotator",
         "orientation": "v",
         "showlegend": false,
         "textposition": "auto",
         "type": "bar",
         "x": [
          0.1,
          0.3,
          0.5,
          0.1,
          0.3,
          0.5
         ],
         "xaxis": "x4",
         "y": [
          6.179958948019033,
          17.16211180039791,
          24.101243275836136,
          4.761904761904761,
          4.761904761904761,
          4.761904761904761
         ],
         "yaxis": "y4"
        },
        {
         "alignmentgroup": "True",
         "hovertemplate": "robot=rotator<br>grid=house<br>battery_p=%{x}<br>value=%{y}<extra></extra>",
         "legendgroup": "rotator",
         "marker": {
          "color": "#EF553B"
         },
         "name": "rotator",
         "offsetgroup": "rotator",
         "orientation": "v",
         "showlegend": false,
         "textposition": "auto",
         "type": "bar",
         "x": [
          0.1,
          0.3,
          0.5,
          0.1,
          0.3,
          0.5
         ],
         "xaxis": "x5",
         "y": [
          9.26718828300668,
          23.890612097112808,
          35.34105722207411,
          2.941176470588234,
          2.941176470588234,
          2.941176470588234
         ],
         "yaxis": "y5"
        },
        {
         "alignmentgroup": "True",
         "hovertemplate": "robot=rotator<br>grid=snake<br>battery_p=%{x}<br>value=%{y}<extra></extra>",
         "legendgroup": "rotator",
         "marker": {
          "color": "#EF553B"
         },
         "name": "rotator",
         "offsetgroup": "rotator",
         "orientation": "v",
         "showlegend": false,
         "textposition": "auto",
         "type": "bar",
         "x": [
          0.1,
          0.3,
          0.5,
          0.1,
          0.3,
          0.5
         ],
         "xaxis": "x6",
         "y": [
          2.5108093853405644,
          7.519017134264494,
          11.389486693915968,
          16,
          16,
          16
         ],
         "yaxis": "y6"
        },
        {
         "alignmentgroup": "True",
         "hovertemplate": "robot=rotator<br>grid=obstacle_room<br>battery_p=%{x}<br>value=%{y}<extra></extra>",
         "legendgroup": "rotator",
         "marker": {
          "color": "#EF553B"
         },
         "name": "rotator",
         "offsetgroup": "rotator",
         "orientation": "v",
         "showlegend": false,
         "textposition": "auto",
         "type": "bar",
         "x": [
          0.1,
          0.3,
          0.5,
          0.1,
          0.3,
          0.5
         ],
         "xaxis": "x",
         "y": [
          4.971589541071144,
          14.667015316170165,
          22.312796481316735,
          5.76923076923077,
          5.76923076923077,
          5.76923076923077
         ],
         "yaxis": "y"
        },
        {
         "alignmentgroup": "True",
         "hovertemplate": "robot=rotator<br>grid=no_obstacle_room<br>battery_p=%{x}<br>value=%{y}<extra></extra>",
         "legendgroup": "rotator",
         "marker": {
          "color": "#EF553B"
         },
         "name": "rotator",
         "offsetgroup": "rotator",
         "orientation": "v",
         "showlegend": false,
         "textposition": "auto",
         "type": "bar",
         "x": [
          0.1,
          0.3,
          0.5,
          0.1,
          0.3,
          0.5
         ],
         "xaxis": "x2",
         "y": [
          6.278892038151215,
          16.533780002339064,
          24.5653723797936,
          4.761904761904761,
          4.761904761904761,
          4.761904761904761
         ],
         "yaxis": "y2"
        },
        {
         "alignmentgroup": "True",
         "hovertemplate": "robot=rotator<br>grid=example-random-level<br>battery_p=%{x}<br>value=%{y}<extra></extra>",
         "legendgroup": "rotator",
         "marker": {
          "color": "#EF553B"
         },
         "name": "rotator",
         "offsetgroup": "rotator",
         "orientation": "v",
         "showlegend": false,
         "textposition": "auto",
         "type": "bar",
         "x": [
          0.1,
          0.3,
          0.5,
          0.1,
          0.3,
          0.5
         ],
         "xaxis": "x3",
         "y": [
          24.359277678564823,
          46.96620525255401,
          59.81826480983884,
          1.016949152542373,
          1.016949152542373,
          1.016949152542373
         ],
         "yaxis": "y3"
        }
       ],
       "layout": {
        "annotations": [
         {
          "font": {},
          "showarrow": false,
          "text": "grid=obstacle_room",
          "x": 0.15999999999999998,
          "xanchor": "center",
          "xref": "paper",
          "y": 0.144,
          "yanchor": "bottom",
          "yref": "paper"
         },
         {
          "font": {},
          "showarrow": false,
          "text": "grid=no_obstacle_room",
          "x": 0.49999999999999994,
          "xanchor": "center",
          "xref": "paper",
          "y": 0.144,
          "yanchor": "bottom",
          "yref": "paper"
         },
         {
          "font": {},
          "showarrow": false,
          "text": "grid=example-random-level",
          "x": 0.8399999999999999,
          "xanchor": "center",
          "xref": "paper",
          "y": 0.144,
          "yanchor": "bottom",
          "yref": "paper"
         },
         {
          "font": {},
          "showarrow": false,
          "text": "grid=goal_room",
          "x": 0.15999999999999998,
          "xanchor": "center",
          "xref": "paper",
          "y": 0.358,
          "yanchor": "bottom",
          "yref": "paper"
         },
         {
          "font": {},
          "showarrow": false,
          "text": "grid=house",
          "x": 0.49999999999999994,
          "xanchor": "center",
          "xref": "paper",
          "y": 0.358,
          "yanchor": "bottom",
          "yref": "paper"
         },
         {
          "font": {},
          "showarrow": false,
          "text": "grid=snake",
          "x": 0.8399999999999999,
          "xanchor": "center",
          "xref": "paper",
          "y": 0.358,
          "yanchor": "bottom",
          "yref": "paper"
         },
         {
          "font": {},
          "showarrow": false,
          "text": "grid=example-random-house-2",
          "x": 0.15999999999999998,
          "xanchor": "center",
          "xref": "paper",
          "y": 0.572,
          "yanchor": "bottom",
          "yref": "paper"
         },
         {
          "font": {},
          "showarrow": false,
          "text": "grid=example-random-house-3",
          "x": 0.49999999999999994,
          "xanchor": "center",
          "xref": "paper",
          "y": 0.572,
          "yanchor": "bottom",
          "yref": "paper"
         },
         {
          "font": {},
          "showarrow": false,
          "text": "grid=example-random-house-4",
          "x": 0.8399999999999999,
          "xanchor": "center",
          "xref": "paper",
          "y": 0.572,
          "yanchor": "bottom",
          "yref": "paper"
         },
         {
          "font": {},
          "showarrow": false,
          "text": "grid=empty_big_room",
          "x": 0.15999999999999998,
          "xanchor": "center",
          "xref": "paper",
          "y": 0.7859999999999999,
          "yanchor": "bottom",
          "yref": "paper"
         },
         {
          "font": {},
          "showarrow": false,
          "text": "grid=example-random-house-0",
          "x": 0.49999999999999994,
          "xanchor": "center",
          "xref": "paper",
          "y": 0.7859999999999999,
          "yanchor": "bottom",
          "yref": "paper"
         },
         {
          "font": {},
          "showarrow": false,
          "text": "grid=example-random-house-1",
          "x": 0.8399999999999999,
          "xanchor": "center",
          "xref": "paper",
          "y": 0.7859999999999999,
          "yanchor": "bottom",
          "yref": "paper"
         },
         {
          "font": {},
          "showarrow": false,
          "text": "grid=death",
          "x": 0.15999999999999998,
          "xanchor": "center",
          "xref": "paper",
          "y": 1,
          "yanchor": "bottom",
          "yref": "paper"
         },
         {
          "font": {},
          "showarrow": false,
          "text": "grid=death_room",
          "x": 0.49999999999999994,
          "xanchor": "center",
          "xref": "paper",
          "y": 1,
          "yanchor": "bottom",
          "yref": "paper"
         },
         {
          "font": {},
          "showarrow": false,
          "text": "grid=empty_small_room",
          "x": 0.8399999999999999,
          "xanchor": "center",
          "xref": "paper",
          "y": 1,
          "yanchor": "bottom",
          "yref": "paper"
         }
        ],
        "barmode": "group",
        "height": 800,
        "legend": {
         "title": {
          "text": "robot"
         },
         "tracegroupgap": 0
        },
        "margin": {
         "t": 60
        },
        "template": {
         "data": {
          "bar": [
           {
            "error_x": {
             "color": "#2a3f5f"
            },
            "error_y": {
             "color": "#2a3f5f"
            },
            "marker": {
             "line": {
              "color": "#E5ECF6",
              "width": 0.5
             }
            },
            "type": "bar"
           }
          ],
          "barpolar": [
           {
            "marker": {
             "line": {
              "color": "#E5ECF6",
              "width": 0.5
             }
            },
            "type": "barpolar"
           }
          ],
          "carpet": [
           {
            "aaxis": {
             "endlinecolor": "#2a3f5f",
             "gridcolor": "white",
             "linecolor": "white",
             "minorgridcolor": "white",
             "startlinecolor": "#2a3f5f"
            },
            "baxis": {
             "endlinecolor": "#2a3f5f",
             "gridcolor": "white",
             "linecolor": "white",
             "minorgridcolor": "white",
             "startlinecolor": "#2a3f5f"
            },
            "type": "carpet"
           }
          ],
          "choropleth": [
           {
            "colorbar": {
             "outlinewidth": 0,
             "ticks": ""
            },
            "type": "choropleth"
           }
          ],
          "contour": [
           {
            "colorbar": {
             "outlinewidth": 0,
             "ticks": ""
            },
            "colorscale": [
             [
              0,
              "#0d0887"
             ],
             [
              0.1111111111111111,
              "#46039f"
             ],
             [
              0.2222222222222222,
              "#7201a8"
             ],
             [
              0.3333333333333333,
              "#9c179e"
             ],
             [
              0.4444444444444444,
              "#bd3786"
             ],
             [
              0.5555555555555556,
              "#d8576b"
             ],
             [
              0.6666666666666666,
              "#ed7953"
             ],
             [
              0.7777777777777778,
              "#fb9f3a"
             ],
             [
              0.8888888888888888,
              "#fdca26"
             ],
             [
              1,
              "#f0f921"
             ]
            ],
            "type": "contour"
           }
          ],
          "contourcarpet": [
           {
            "colorbar": {
             "outlinewidth": 0,
             "ticks": ""
            },
            "type": "contourcarpet"
           }
          ],
          "heatmap": [
           {
            "colorbar": {
             "outlinewidth": 0,
             "ticks": ""
            },
            "colorscale": [
             [
              0,
              "#0d0887"
             ],
             [
              0.1111111111111111,
              "#46039f"
             ],
             [
              0.2222222222222222,
              "#7201a8"
             ],
             [
              0.3333333333333333,
              "#9c179e"
             ],
             [
              0.4444444444444444,
              "#bd3786"
             ],
             [
              0.5555555555555556,
              "#d8576b"
             ],
             [
              0.6666666666666666,
              "#ed7953"
             ],
             [
              0.7777777777777778,
              "#fb9f3a"
             ],
             [
              0.8888888888888888,
              "#fdca26"
             ],
             [
              1,
              "#f0f921"
             ]
            ],
            "type": "heatmap"
           }
          ],
          "heatmapgl": [
           {
            "colorbar": {
             "outlinewidth": 0,
             "ticks": ""
            },
            "colorscale": [
             [
              0,
              "#0d0887"
             ],
             [
              0.1111111111111111,
              "#46039f"
             ],
             [
              0.2222222222222222,
              "#7201a8"
             ],
             [
              0.3333333333333333,
              "#9c179e"
             ],
             [
              0.4444444444444444,
              "#bd3786"
             ],
             [
              0.5555555555555556,
              "#d8576b"
             ],
             [
              0.6666666666666666,
              "#ed7953"
             ],
             [
              0.7777777777777778,
              "#fb9f3a"
             ],
             [
              0.8888888888888888,
              "#fdca26"
             ],
             [
              1,
              "#f0f921"
             ]
            ],
            "type": "heatmapgl"
           }
          ],
          "histogram": [
           {
            "marker": {
             "colorbar": {
              "outlinewidth": 0,
              "ticks": ""
             }
            },
            "type": "histogram"
           }
          ],
          "histogram2d": [
           {
            "colorbar": {
             "outlinewidth": 0,
             "ticks": ""
            },
            "colorscale": [
             [
              0,
              "#0d0887"
             ],
             [
              0.1111111111111111,
              "#46039f"
             ],
             [
              0.2222222222222222,
              "#7201a8"
             ],
             [
              0.3333333333333333,
              "#9c179e"
             ],
             [
              0.4444444444444444,
              "#bd3786"
             ],
             [
              0.5555555555555556,
              "#d8576b"
             ],
             [
              0.6666666666666666,
              "#ed7953"
             ],
             [
              0.7777777777777778,
              "#fb9f3a"
             ],
             [
              0.8888888888888888,
              "#fdca26"
             ],
             [
              1,
              "#f0f921"
             ]
            ],
            "type": "histogram2d"
           }
          ],
          "histogram2dcontour": [
           {
            "colorbar": {
             "outlinewidth": 0,
             "ticks": ""
            },
            "colorscale": [
             [
              0,
              "#0d0887"
             ],
             [
              0.1111111111111111,
              "#46039f"
             ],
             [
              0.2222222222222222,
              "#7201a8"
             ],
             [
              0.3333333333333333,
              "#9c179e"
             ],
             [
              0.4444444444444444,
              "#bd3786"
             ],
             [
              0.5555555555555556,
              "#d8576b"
             ],
             [
              0.6666666666666666,
              "#ed7953"
             ],
             [
              0.7777777777777778,
              "#fb9f3a"
             ],
             [
              0.8888888888888888,
              "#fdca26"
             ],
             [
              1,
              "#f0f921"
             ]
            ],
            "type": "histogram2dcontour"
           }
          ],
          "mesh3d": [
           {
            "colorbar": {
             "outlinewidth": 0,
             "ticks": ""
            },
            "type": "mesh3d"
           }
          ],
          "parcoords": [
           {
            "line": {
             "colorbar": {
              "outlinewidth": 0,
              "ticks": ""
             }
            },
            "type": "parcoords"
           }
          ],
          "pie": [
           {
            "automargin": true,
            "type": "pie"
           }
          ],
          "scatter": [
           {
            "marker": {
             "colorbar": {
              "outlinewidth": 0,
              "ticks": ""
             }
            },
            "type": "scatter"
           }
          ],
          "scatter3d": [
           {
            "line": {
             "colorbar": {
              "outlinewidth": 0,
              "ticks": ""
             }
            },
            "marker": {
             "colorbar": {
              "outlinewidth": 0,
              "ticks": ""
             }
            },
            "type": "scatter3d"
           }
          ],
          "scattercarpet": [
           {
            "marker": {
             "colorbar": {
              "outlinewidth": 0,
              "ticks": ""
             }
            },
            "type": "scattercarpet"
           }
          ],
          "scattergeo": [
           {
            "marker": {
             "colorbar": {
              "outlinewidth": 0,
              "ticks": ""
             }
            },
            "type": "scattergeo"
           }
          ],
          "scattergl": [
           {
            "marker": {
             "colorbar": {
              "outlinewidth": 0,
              "ticks": ""
             }
            },
            "type": "scattergl"
           }
          ],
          "scattermapbox": [
           {
            "marker": {
             "colorbar": {
              "outlinewidth": 0,
              "ticks": ""
             }
            },
            "type": "scattermapbox"
           }
          ],
          "scatterpolar": [
           {
            "marker": {
             "colorbar": {
              "outlinewidth": 0,
              "ticks": ""
             }
            },
            "type": "scatterpolar"
           }
          ],
          "scatterpolargl": [
           {
            "marker": {
             "colorbar": {
              "outlinewidth": 0,
              "ticks": ""
             }
            },
            "type": "scatterpolargl"
           }
          ],
          "scatterternary": [
           {
            "marker": {
             "colorbar": {
              "outlinewidth": 0,
              "ticks": ""
             }
            },
            "type": "scatterternary"
           }
          ],
          "surface": [
           {
            "colorbar": {
             "outlinewidth": 0,
             "ticks": ""
            },
            "colorscale": [
             [
              0,
              "#0d0887"
             ],
             [
              0.1111111111111111,
              "#46039f"
             ],
             [
              0.2222222222222222,
              "#7201a8"
             ],
             [
              0.3333333333333333,
              "#9c179e"
             ],
             [
              0.4444444444444444,
              "#bd3786"
             ],
             [
              0.5555555555555556,
              "#d8576b"
             ],
             [
              0.6666666666666666,
              "#ed7953"
             ],
             [
              0.7777777777777778,
              "#fb9f3a"
             ],
             [
              0.8888888888888888,
              "#fdca26"
             ],
             [
              1,
              "#f0f921"
             ]
            ],
            "type": "surface"
           }
          ],
          "table": [
           {
            "cells": {
             "fill": {
              "color": "#EBF0F8"
             },
             "line": {
              "color": "white"
             }
            },
            "header": {
             "fill": {
              "color": "#C8D4E3"
             },
             "line": {
              "color": "white"
             }
            },
            "type": "table"
           }
          ]
         },
         "layout": {
          "annotationdefaults": {
           "arrowcolor": "#2a3f5f",
           "arrowhead": 0,
           "arrowwidth": 1
          },
          "coloraxis": {
           "colorbar": {
            "outlinewidth": 0,
            "ticks": ""
           }
          },
          "colorscale": {
           "diverging": [
            [
             0,
             "#8e0152"
            ],
            [
             0.1,
             "#c51b7d"
            ],
            [
             0.2,
             "#de77ae"
            ],
            [
             0.3,
             "#f1b6da"
            ],
            [
             0.4,
             "#fde0ef"
            ],
            [
             0.5,
             "#f7f7f7"
            ],
            [
             0.6,
             "#e6f5d0"
            ],
            [
             0.7,
             "#b8e186"
            ],
            [
             0.8,
             "#7fbc41"
            ],
            [
             0.9,
             "#4d9221"
            ],
            [
             1,
             "#276419"
            ]
           ],
           "sequential": [
            [
             0,
             "#0d0887"
            ],
            [
             0.1111111111111111,
             "#46039f"
            ],
            [
             0.2222222222222222,
             "#7201a8"
            ],
            [
             0.3333333333333333,
             "#9c179e"
            ],
            [
             0.4444444444444444,
             "#bd3786"
            ],
            [
             0.5555555555555556,
             "#d8576b"
            ],
            [
             0.6666666666666666,
             "#ed7953"
            ],
            [
             0.7777777777777778,
             "#fb9f3a"
            ],
            [
             0.8888888888888888,
             "#fdca26"
            ],
            [
             1,
             "#f0f921"
            ]
           ],
           "sequentialminus": [
            [
             0,
             "#0d0887"
            ],
            [
             0.1111111111111111,
             "#46039f"
            ],
            [
             0.2222222222222222,
             "#7201a8"
            ],
            [
             0.3333333333333333,
             "#9c179e"
            ],
            [
             0.4444444444444444,
             "#bd3786"
            ],
            [
             0.5555555555555556,
             "#d8576b"
            ],
            [
             0.6666666666666666,
             "#ed7953"
            ],
            [
             0.7777777777777778,
             "#fb9f3a"
            ],
            [
             0.8888888888888888,
             "#fdca26"
            ],
            [
             1,
             "#f0f921"
            ]
           ]
          },
          "colorway": [
           "#636efa",
           "#EF553B",
           "#00cc96",
           "#ab63fa",
           "#FFA15A",
           "#19d3f3",
           "#FF6692",
           "#B6E880",
           "#FF97FF",
           "#FECB52"
          ],
          "font": {
           "color": "#2a3f5f"
          },
          "geo": {
           "bgcolor": "white",
           "lakecolor": "white",
           "landcolor": "#E5ECF6",
           "showlakes": true,
           "showland": true,
           "subunitcolor": "white"
          },
          "hoverlabel": {
           "align": "left"
          },
          "hovermode": "closest",
          "mapbox": {
           "style": "light"
          },
          "paper_bgcolor": "white",
          "plot_bgcolor": "#E5ECF6",
          "polar": {
           "angularaxis": {
            "gridcolor": "white",
            "linecolor": "white",
            "ticks": ""
           },
           "bgcolor": "#E5ECF6",
           "radialaxis": {
            "gridcolor": "white",
            "linecolor": "white",
            "ticks": ""
           }
          },
          "scene": {
           "xaxis": {
            "backgroundcolor": "#E5ECF6",
            "gridcolor": "white",
            "gridwidth": 2,
            "linecolor": "white",
            "showbackground": true,
            "ticks": "",
            "zerolinecolor": "white"
           },
           "yaxis": {
            "backgroundcolor": "#E5ECF6",
            "gridcolor": "white",
            "gridwidth": 2,
            "linecolor": "white",
            "showbackground": true,
            "ticks": "",
            "zerolinecolor": "white"
           },
           "zaxis": {
            "backgroundcolor": "#E5ECF6",
            "gridcolor": "white",
            "gridwidth": 2,
            "linecolor": "white",
            "showbackground": true,
            "ticks": "",
            "zerolinecolor": "white"
           }
          },
          "shapedefaults": {
           "line": {
            "color": "#2a3f5f"
           }
          },
          "ternary": {
           "aaxis": {
            "gridcolor": "white",
            "linecolor": "white",
            "ticks": ""
           },
           "baxis": {
            "gridcolor": "white",
            "linecolor": "white",
            "ticks": ""
           },
           "bgcolor": "#E5ECF6",
           "caxis": {
            "gridcolor": "white",
            "linecolor": "white",
            "ticks": ""
           }
          },
          "title": {
           "x": 0.05
          },
          "xaxis": {
           "automargin": true,
           "gridcolor": "white",
           "linecolor": "white",
           "ticks": "",
           "title": {
            "standoff": 15
           },
           "zerolinecolor": "white",
           "zerolinewidth": 2
          },
          "yaxis": {
           "automargin": true,
           "gridcolor": "white",
           "linecolor": "white",
           "ticks": "",
           "title": {
            "standoff": 15
           },
           "zerolinecolor": "white",
           "zerolinewidth": 2
          }
         }
        },
        "width": 800,
        "xaxis": {
         "anchor": "y",
         "domain": [
          0,
          0.31999999999999995
         ],
         "title": {
          "text": "battery_p"
         }
        },
        "xaxis10": {
         "anchor": "y10",
         "domain": [
          0,
          0.31999999999999995
         ],
         "matches": "x",
         "showticklabels": false
        },
        "xaxis11": {
         "anchor": "y11",
         "domain": [
          0.33999999999999997,
          0.6599999999999999
         ],
         "matches": "x",
         "showticklabels": false
        },
        "xaxis12": {
         "anchor": "y12",
         "domain": [
          0.6799999999999999,
          0.9999999999999999
         ],
         "matches": "x",
         "showticklabels": false
        },
        "xaxis13": {
         "anchor": "y13",
         "domain": [
          0,
          0.31999999999999995
         ],
         "matches": "x",
         "showticklabels": false
        },
        "xaxis14": {
         "anchor": "y14",
         "domain": [
          0.33999999999999997,
          0.6599999999999999
         ],
         "matches": "x",
         "showticklabels": false
        },
        "xaxis15": {
         "anchor": "y15",
         "domain": [
          0.6799999999999999,
          0.9999999999999999
         ],
         "matches": "x",
         "showticklabels": false
        },
        "xaxis2": {
         "anchor": "y2",
         "domain": [
          0.33999999999999997,
          0.6599999999999999
         ],
         "matches": "x",
         "title": {
          "text": "battery_p"
         }
        },
        "xaxis3": {
         "anchor": "y3",
         "domain": [
          0.6799999999999999,
          0.9999999999999999
         ],
         "matches": "x",
         "title": {
          "text": "battery_p"
         }
        },
        "xaxis4": {
         "anchor": "y4",
         "domain": [
          0,
          0.31999999999999995
         ],
         "matches": "x",
         "showticklabels": false
        },
        "xaxis5": {
         "anchor": "y5",
         "domain": [
          0.33999999999999997,
          0.6599999999999999
         ],
         "matches": "x",
         "showticklabels": false
        },
        "xaxis6": {
         "anchor": "y6",
         "domain": [
          0.6799999999999999,
          0.9999999999999999
         ],
         "matches": "x",
         "showticklabels": false
        },
        "xaxis7": {
         "anchor": "y7",
         "domain": [
          0,
          0.31999999999999995
         ],
         "matches": "x",
         "showticklabels": false
        },
        "xaxis8": {
         "anchor": "y8",
         "domain": [
          0.33999999999999997,
          0.6599999999999999
         ],
         "matches": "x",
         "showticklabels": false
        },
        "xaxis9": {
         "anchor": "y9",
         "domain": [
          0.6799999999999999,
          0.9999999999999999
         ],
         "matches": "x",
         "showticklabels": false
        },
        "yaxis": {
         "anchor": "x",
         "domain": [
          0,
          0.144
         ],
         "title": {
          "text": "value"
         }
        },
        "yaxis10": {
         "anchor": "x10",
         "domain": [
          0.6419999999999999,
          0.7859999999999999
         ],
         "matches": "y",
         "title": {
          "text": "value"
         }
        },
        "yaxis11": {
         "anchor": "x11",
         "domain": [
          0.6419999999999999,
          0.7859999999999999
         ],
         "matches": "y",
         "showticklabels": false
        },
        "yaxis12": {
         "anchor": "x12",
         "domain": [
          0.6419999999999999,
          0.7859999999999999
         ],
         "matches": "y",
         "showticklabels": false
        },
        "yaxis13": {
         "anchor": "x13",
         "domain": [
          0.856,
          1
         ],
         "matches": "y",
         "title": {
          "text": "value"
         }
        },
        "yaxis14": {
         "anchor": "x14",
         "domain": [
          0.856,
          1
         ],
         "matches": "y",
         "showticklabels": false
        },
        "yaxis15": {
         "anchor": "x15",
         "domain": [
          0.856,
          1
         ],
         "matches": "y",
         "showticklabels": false
        },
        "yaxis2": {
         "anchor": "x2",
         "domain": [
          0,
          0.144
         ],
         "matches": "y",
         "showticklabels": false
        },
        "yaxis3": {
         "anchor": "x3",
         "domain": [
          0,
          0.144
         ],
         "matches": "y",
         "showticklabels": false
        },
        "yaxis4": {
         "anchor": "x4",
         "domain": [
          0.214,
          0.358
         ],
         "matches": "y",
         "title": {
          "text": "value"
         }
        },
        "yaxis5": {
         "anchor": "x5",
         "domain": [
          0.214,
          0.358
         ],
         "matches": "y",
         "showticklabels": false
        },
        "yaxis6": {
         "anchor": "x6",
         "domain": [
          0.214,
          0.358
         ],
         "matches": "y",
         "showticklabels": false
        },
        "yaxis7": {
         "anchor": "x7",
         "domain": [
          0.428,
          0.572
         ],
         "matches": "y",
         "title": {
          "text": "value"
         }
        },
        "yaxis8": {
         "anchor": "x8",
         "domain": [
          0.428,
          0.572
         ],
         "matches": "y",
         "showticklabels": false
        },
        "yaxis9": {
         "anchor": "x9",
         "domain": [
          0.428,
          0.572
         ],
         "matches": "y",
         "showticklabels": false
        }
       }
      },
      "text/html": [
       "<div>\n",
       "        \n",
       "        \n",
       "            <div id=\"26ccdcad-1a5c-4c23-bd10-2ed82a4ab1de\" class=\"plotly-graph-div\" style=\"height:800px; width:800px;\"></div>\n",
       "            <script type=\"text/javascript\">\n",
       "                require([\"plotly\"], function(Plotly) {\n",
       "                    window.PLOTLYENV=window.PLOTLYENV || {};\n",
       "                    \n",
       "                if (document.getElementById(\"26ccdcad-1a5c-4c23-bd10-2ed82a4ab1de\")) {\n",
       "                    Plotly.newPlot(\n",
       "                        '26ccdcad-1a5c-4c23-bd10-2ed82a4ab1de',\n",
       "                        [{\"alignmentgroup\": \"True\", \"hovertemplate\": \"robot=greedy_random<br>grid=death<br>battery_p=%{x}<br>value=%{y}<extra></extra>\", \"legendgroup\": \"greedy_random\", \"marker\": {\"color\": \"#636efa\"}, \"name\": \"greedy_random\", \"offsetgroup\": \"greedy_random\", \"orientation\": \"v\", \"showlegend\": true, \"textposition\": \"auto\", \"type\": \"bar\", \"x\": [0.1, 0.3, 0.5, 0.1, 0.3, 0.5], \"xaxis\": \"x13\", \"y\": [100.0, 100.0, 100.0, 62.5, 62.5, 62.5], \"yaxis\": \"y13\"}, {\"alignmentgroup\": \"True\", \"hovertemplate\": \"robot=greedy_random<br>grid=death_room<br>battery_p=%{x}<br>value=%{y}<extra></extra>\", \"legendgroup\": \"greedy_random\", \"marker\": {\"color\": \"#636efa\"}, \"name\": \"greedy_random\", \"offsetgroup\": \"greedy_random\", \"orientation\": \"v\", \"showlegend\": false, \"textposition\": \"auto\", \"type\": \"bar\", \"x\": [0.1, 0.3, 0.5, 0.1, 0.3, 0.5], \"xaxis\": \"x14\", \"y\": [100.0, 100.0, 100.0, 33.333333333333336, 33.333333333333336, 33.333333333333336], \"yaxis\": \"y14\"}, {\"alignmentgroup\": \"True\", \"hovertemplate\": \"robot=greedy_random<br>grid=empty_small_room<br>battery_p=%{x}<br>value=%{y}<extra></extra>\", \"legendgroup\": \"greedy_random\", \"marker\": {\"color\": \"#636efa\"}, \"name\": \"greedy_random\", \"offsetgroup\": \"greedy_random\", \"orientation\": \"v\", \"showlegend\": false, \"textposition\": \"auto\", \"type\": \"bar\", \"x\": [0.1, 0.3, 0.5, 0.1, 0.3, 0.5], \"xaxis\": \"x15\", \"y\": [100.0, 100.0, 100.0, 100.0, 100.0, 100.0], \"yaxis\": \"y15\"}, {\"alignmentgroup\": \"True\", \"hovertemplate\": \"robot=greedy_random<br>grid=empty_big_room<br>battery_p=%{x}<br>value=%{y}<extra></extra>\", \"legendgroup\": \"greedy_random\", \"marker\": {\"color\": \"#636efa\"}, \"name\": \"greedy_random\", \"offsetgroup\": \"greedy_random\", \"orientation\": \"v\", \"showlegend\": false, \"textposition\": \"auto\", \"type\": \"bar\", \"x\": [0.1, 0.3, 0.5, 0.1, 0.3, 0.5], \"xaxis\": \"x10\", \"y\": [100.0, 100.0, 100.0, 100.0, 100.0, 99.82142857142856], \"yaxis\": \"y10\"}, {\"alignmentgroup\": \"True\", \"hovertemplate\": \"robot=greedy_random<br>grid=example-random-house-0<br>battery_p=%{x}<br>value=%{y}<extra></extra>\", \"legendgroup\": \"greedy_random\", \"marker\": {\"color\": \"#636efa\"}, \"name\": \"greedy_random\", \"offsetgroup\": \"greedy_random\", \"orientation\": \"v\", \"showlegend\": false, \"textposition\": \"auto\", \"type\": \"bar\", \"x\": [0.1, 0.3, 0.5, 0.1, 0.3, 0.5], \"xaxis\": \"x11\", \"y\": [14.306088492355768, 34.68758174822977, 48.8002109791838, 61.363636363636346, 61.363636363636346, 60.681818181818166], \"yaxis\": \"y11\"}, {\"alignmentgroup\": \"True\", \"hovertemplate\": \"robot=greedy_random<br>grid=example-random-house-1<br>battery_p=%{x}<br>value=%{y}<extra></extra>\", \"legendgroup\": \"greedy_random\", \"marker\": {\"color\": \"#636efa\"}, \"name\": \"greedy_random\", \"offsetgroup\": \"greedy_random\", \"orientation\": \"v\", \"showlegend\": false, \"textposition\": \"auto\", \"type\": \"bar\", \"x\": [0.1, 0.3, 0.5, 0.1, 0.3, 0.5], \"xaxis\": \"x12\", \"y\": [8.16911550498393, 22.53840338588825, 34.275285765505124, 52.6315789473684, 52.6315789473684, 52.6315789473684], \"yaxis\": \"y12\"}, {\"alignmentgroup\": \"True\", \"hovertemplate\": \"robot=greedy_random<br>grid=example-random-house-2<br>battery_p=%{x}<br>value=%{y}<extra></extra>\", \"legendgroup\": \"greedy_random\", \"marker\": {\"color\": \"#636efa\"}, \"name\": \"greedy_random\", \"offsetgroup\": \"greedy_random\", \"orientation\": \"v\", \"showlegend\": false, \"textposition\": \"auto\", \"type\": \"bar\", \"x\": [0.1, 0.3, 0.5, 0.1, 0.3, 0.5], \"xaxis\": \"x7\", \"y\": [9.022641531628365, 25.755452994937038, 39.15166062116021, 65.625, 65.625, 65.625], \"yaxis\": \"y7\"}, {\"alignmentgroup\": \"True\", \"hovertemplate\": \"robot=greedy_random<br>grid=example-random-house-3<br>battery_p=%{x}<br>value=%{y}<extra></extra>\", \"legendgroup\": \"greedy_random\", \"marker\": {\"color\": \"#636efa\"}, \"name\": \"greedy_random\", \"offsetgroup\": \"greedy_random\", \"orientation\": \"v\", \"showlegend\": false, \"textposition\": \"auto\", \"type\": \"bar\", \"x\": [0.1, 0.3, 0.5, 0.1, 0.3, 0.5], \"xaxis\": \"x8\", \"y\": [16.4041887459042, 44.03955099472192, 63.340886499306, 72.34042553191492, 70.56737588652483, 62.52955082742317], \"yaxis\": \"y8\"}, {\"alignmentgroup\": \"True\", \"hovertemplate\": \"robot=greedy_random<br>grid=example-random-house-4<br>battery_p=%{x}<br>value=%{y}<extra></extra>\", \"legendgroup\": \"greedy_random\", \"marker\": {\"color\": \"#636efa\"}, \"name\": \"greedy_random\", \"offsetgroup\": \"greedy_random\", \"orientation\": \"v\", \"showlegend\": false, \"textposition\": \"auto\", \"type\": \"bar\", \"x\": [0.1, 0.3, 0.5, 0.1, 0.3, 0.5], \"xaxis\": \"x9\", \"y\": [13.36533788698879, 33.7889321899379, 49.32469626969455, 57.44680851063829, 57.44680851063829, 56.27659574468085], \"yaxis\": \"y9\"}, {\"alignmentgroup\": \"True\", \"hovertemplate\": \"robot=greedy_random<br>grid=goal_room<br>battery_p=%{x}<br>value=%{y}<extra></extra>\", \"legendgroup\": \"greedy_random\", \"marker\": {\"color\": \"#636efa\"}, \"name\": \"greedy_random\", \"offsetgroup\": \"greedy_random\", \"orientation\": \"v\", \"showlegend\": false, \"textposition\": \"auto\", \"type\": \"bar\", \"x\": [0.1, 0.3, 0.5, 0.1, 0.3, 0.5], \"xaxis\": \"x4\", \"y\": [82.70945081956572, 84.71947468829335, 86.91075286172136, 100.0, 100.0, 100.0], \"yaxis\": \"y4\"}, {\"alignmentgroup\": \"True\", \"hovertemplate\": \"robot=greedy_random<br>grid=house<br>battery_p=%{x}<br>value=%{y}<extra></extra>\", \"legendgroup\": \"greedy_random\", \"marker\": {\"color\": \"#636efa\"}, \"name\": \"greedy_random\", \"offsetgroup\": \"greedy_random\", \"orientation\": \"v\", \"showlegend\": false, \"textposition\": \"auto\", \"type\": \"bar\", \"x\": [0.1, 0.3, 0.5, 0.1, 0.3, 0.5], \"xaxis\": \"x5\", \"y\": [13.676616502005876, 34.776373385163346, 50.29028375590554, 64.70588235294119, 64.70588235294119, 64.70588235294119], \"yaxis\": \"y5\"}, {\"alignmentgroup\": \"True\", \"hovertemplate\": \"robot=greedy_random<br>grid=snake<br>battery_p=%{x}<br>value=%{y}<extra></extra>\", \"legendgroup\": \"greedy_random\", \"marker\": {\"color\": \"#636efa\"}, \"name\": \"greedy_random\", \"offsetgroup\": \"greedy_random\", \"orientation\": \"v\", \"showlegend\": false, \"textposition\": \"auto\", \"type\": \"bar\", \"x\": [0.1, 0.3, 0.5, 0.1, 0.3, 0.5], \"xaxis\": \"x6\", \"y\": [50.71103839213394, 45.615620433348745, 47.04071248847845, 100.0, 100.0, 96.8], \"yaxis\": \"y6\"}, {\"alignmentgroup\": \"True\", \"hovertemplate\": \"robot=greedy_random<br>grid=obstacle_room<br>battery_p=%{x}<br>value=%{y}<extra></extra>\", \"legendgroup\": \"greedy_random\", \"marker\": {\"color\": \"#636efa\"}, \"name\": \"greedy_random\", \"offsetgroup\": \"greedy_random\", \"orientation\": \"v\", \"showlegend\": false, \"textposition\": \"auto\", \"type\": \"bar\", \"x\": [0.1, 0.3, 0.5, 0.1, 0.3, 0.5], \"xaxis\": \"x\", \"y\": [65.71139507316865, 69.67830270042128, 70.00022806341367, 100.0, 100.0, 100.0], \"yaxis\": \"y\"}, {\"alignmentgroup\": \"True\", \"hovertemplate\": \"robot=greedy_random<br>grid=no_obstacle_room<br>battery_p=%{x}<br>value=%{y}<extra></extra>\", \"legendgroup\": \"greedy_random\", \"marker\": {\"color\": \"#636efa\"}, \"name\": \"greedy_random\", \"offsetgroup\": \"greedy_random\", \"orientation\": \"v\", \"showlegend\": false, \"textposition\": \"auto\", \"type\": \"bar\", \"x\": [0.1, 0.3, 0.5, 0.1, 0.3, 0.5], \"xaxis\": \"x2\", \"y\": [100.0, 100.0, 100.0, 100.0, 100.0, 100.0], \"yaxis\": \"y2\"}, {\"alignmentgroup\": \"True\", \"hovertemplate\": \"robot=greedy_random<br>grid=example-random-level<br>battery_p=%{x}<br>value=%{y}<extra></extra>\", \"legendgroup\": \"greedy_random\", \"marker\": {\"color\": \"#636efa\"}, \"name\": \"greedy_random\", \"offsetgroup\": \"greedy_random\", \"orientation\": \"v\", \"showlegend\": false, \"textposition\": \"auto\", \"type\": \"bar\", \"x\": [0.1, 0.3, 0.5, 0.1, 0.3, 0.5], \"xaxis\": \"x3\", \"y\": [58.190913560377446, 81.21370891259122, 91.66332483537144, 99.86440677966102, 79.51412429378531, 53.72881355932204], \"yaxis\": \"y3\"}, {\"alignmentgroup\": \"True\", \"hovertemplate\": \"robot=rotator<br>grid=death<br>battery_p=%{x}<br>value=%{y}<extra></extra>\", \"legendgroup\": \"rotator\", \"marker\": {\"color\": \"#EF553B\"}, \"name\": \"rotator\", \"offsetgroup\": \"rotator\", \"orientation\": \"v\", \"showlegend\": true, \"textposition\": \"auto\", \"type\": \"bar\", \"x\": [0.1, 0.3, 0.5, 0.1, 0.3, 0.5], \"xaxis\": \"x13\", \"y\": [100.0, 100.0, 100.0, 12.5, 12.5, 12.5], \"yaxis\": \"y13\"}, {\"alignmentgroup\": \"True\", \"hovertemplate\": \"robot=rotator<br>grid=death_room<br>battery_p=%{x}<br>value=%{y}<extra></extra>\", \"legendgroup\": \"rotator\", \"marker\": {\"color\": \"#EF553B\"}, \"name\": \"rotator\", \"offsetgroup\": \"rotator\", \"orientation\": \"v\", \"showlegend\": false, \"textposition\": \"auto\", \"type\": \"bar\", \"x\": [0.1, 0.3, 0.5, 0.1, 0.3, 0.5], \"xaxis\": \"x14\", \"y\": [6.25569264399074, 16.19871239107621, 23.81257792544778, 4.761904761904761, 4.761904761904761, 4.761904761904761], \"yaxis\": \"y14\"}, {\"alignmentgroup\": \"True\", \"hovertemplate\": \"robot=rotator<br>grid=empty_small_room<br>battery_p=%{x}<br>value=%{y}<extra></extra>\", \"legendgroup\": \"rotator\", \"marker\": {\"color\": \"#EF553B\"}, \"name\": \"rotator\", \"offsetgroup\": \"rotator\", \"orientation\": \"v\", \"showlegend\": false, \"textposition\": \"auto\", \"type\": \"bar\", \"x\": [0.1, 0.3, 0.5, 0.1, 0.3, 0.5], \"xaxis\": \"x15\", \"y\": [2.4943940718040265, 7.063552183232155, 11.406856974054111, 12.5, 12.5, 12.5], \"yaxis\": \"y15\"}, {\"alignmentgroup\": \"True\", \"hovertemplate\": \"robot=rotator<br>grid=empty_big_room<br>battery_p=%{x}<br>value=%{y}<extra></extra>\", \"legendgroup\": \"rotator\", \"marker\": {\"color\": \"#EF553B\"}, \"name\": \"rotator\", \"offsetgroup\": \"rotator\", \"orientation\": \"v\", \"showlegend\": false, \"textposition\": \"auto\", \"type\": \"bar\", \"x\": [0.1, 0.3, 0.5, 0.1, 0.3, 0.5], \"xaxis\": \"x10\", \"y\": [14.718058460306786, 35.266603189899186, 46.47079794313945, 1.7857142857142854, 1.7857142857142854, 1.7857142857142854], \"yaxis\": \"y10\"}, {\"alignmentgroup\": \"True\", \"hovertemplate\": \"robot=rotator<br>grid=example-random-house-0<br>battery_p=%{x}<br>value=%{y}<extra></extra>\", \"legendgroup\": \"rotator\", \"marker\": {\"color\": \"#EF553B\"}, \"name\": \"rotator\", \"offsetgroup\": \"rotator\", \"orientation\": \"v\", \"showlegend\": false, \"textposition\": \"auto\", \"type\": \"bar\", \"x\": [0.1, 0.3, 0.5, 0.1, 0.3, 0.5], \"xaxis\": \"x11\", \"y\": [8.081087138136477, 20.923431161853816, 32.055703093600734, 3.4090909090909083, 3.4090909090909083, 3.4090909090909083], \"yaxis\": \"y11\"}, {\"alignmentgroup\": \"True\", \"hovertemplate\": \"robot=rotator<br>grid=example-random-house-1<br>battery_p=%{x}<br>value=%{y}<extra></extra>\", \"legendgroup\": \"rotator\", \"marker\": {\"color\": \"#EF553B\"}, \"name\": \"rotator\", \"offsetgroup\": \"rotator\", \"orientation\": \"v\", \"showlegend\": false, \"textposition\": \"auto\", \"type\": \"bar\", \"x\": [0.1, 0.3, 0.5, 0.1, 0.3, 0.5], \"xaxis\": \"x12\", \"y\": [5.435317762627959, 14.476147860329508, 22.61159030997957, 5.263157894736843, 5.263157894736843, 5.263157894736843], \"yaxis\": \"y12\"}, {\"alignmentgroup\": \"True\", \"hovertemplate\": \"robot=rotator<br>grid=example-random-house-2<br>battery_p=%{x}<br>value=%{y}<extra></extra>\", \"legendgroup\": \"rotator\", \"marker\": {\"color\": \"#EF553B\"}, \"name\": \"rotator\", \"offsetgroup\": \"rotator\", \"orientation\": \"v\", \"showlegend\": false, \"textposition\": \"auto\", \"type\": \"bar\", \"x\": [0.1, 0.3, 0.5, 0.1, 0.3, 0.5], \"xaxis\": \"x7\", \"y\": [5.926186340195176, 16.386715051810167, 25.308856758517816, 4.6875, 4.6875, 4.6875], \"yaxis\": \"y7\"}, {\"alignmentgroup\": \"True\", \"hovertemplate\": \"robot=rotator<br>grid=example-random-house-3<br>battery_p=%{x}<br>value=%{y}<extra></extra>\", \"legendgroup\": \"rotator\", \"marker\": {\"color\": \"#EF553B\"}, \"name\": \"rotator\", \"offsetgroup\": \"rotator\", \"orientation\": \"v\", \"showlegend\": false, \"textposition\": \"auto\", \"type\": \"bar\", \"x\": [0.1, 0.3, 0.5, 0.1, 0.3, 0.5], \"xaxis\": \"x8\", \"y\": [12.461394819811233, 30.060146190657687, 41.45827136613082, 2.1276595744680846, 2.1276595744680846, 2.1276595744680846], \"yaxis\": \"y8\"}, {\"alignmentgroup\": \"True\", \"hovertemplate\": \"robot=rotator<br>grid=example-random-house-4<br>battery_p=%{x}<br>value=%{y}<extra></extra>\", \"legendgroup\": \"rotator\", \"marker\": {\"color\": \"#EF553B\"}, \"name\": \"rotator\", \"offsetgroup\": \"rotator\", \"orientation\": \"v\", \"showlegend\": false, \"textposition\": \"auto\", \"type\": \"bar\", \"x\": [0.1, 0.3, 0.5, 0.1, 0.3, 0.5], \"xaxis\": \"x9\", \"y\": [8.722470529702782, 22.58692235458858, 33.538002343011506, 3.1914893617021267, 3.1914893617021267, 3.1914893617021267], \"yaxis\": \"y9\"}, {\"alignmentgroup\": \"True\", \"hovertemplate\": \"robot=rotator<br>grid=goal_room<br>battery_p=%{x}<br>value=%{y}<extra></extra>\", \"legendgroup\": \"rotator\", \"marker\": {\"color\": \"#EF553B\"}, \"name\": \"rotator\", \"offsetgroup\": \"rotator\", \"orientation\": \"v\", \"showlegend\": false, \"textposition\": \"auto\", \"type\": \"bar\", \"x\": [0.1, 0.3, 0.5, 0.1, 0.3, 0.5], \"xaxis\": \"x4\", \"y\": [6.179958948019033, 17.16211180039791, 24.101243275836136, 4.761904761904761, 4.761904761904761, 4.761904761904761], \"yaxis\": \"y4\"}, {\"alignmentgroup\": \"True\", \"hovertemplate\": \"robot=rotator<br>grid=house<br>battery_p=%{x}<br>value=%{y}<extra></extra>\", \"legendgroup\": \"rotator\", \"marker\": {\"color\": \"#EF553B\"}, \"name\": \"rotator\", \"offsetgroup\": \"rotator\", \"orientation\": \"v\", \"showlegend\": false, \"textposition\": \"auto\", \"type\": \"bar\", \"x\": [0.1, 0.3, 0.5, 0.1, 0.3, 0.5], \"xaxis\": \"x5\", \"y\": [9.26718828300668, 23.890612097112808, 35.34105722207411, 2.941176470588234, 2.941176470588234, 2.941176470588234], \"yaxis\": \"y5\"}, {\"alignmentgroup\": \"True\", \"hovertemplate\": \"robot=rotator<br>grid=snake<br>battery_p=%{x}<br>value=%{y}<extra></extra>\", \"legendgroup\": \"rotator\", \"marker\": {\"color\": \"#EF553B\"}, \"name\": \"rotator\", \"offsetgroup\": \"rotator\", \"orientation\": \"v\", \"showlegend\": false, \"textposition\": \"auto\", \"type\": \"bar\", \"x\": [0.1, 0.3, 0.5, 0.1, 0.3, 0.5], \"xaxis\": \"x6\", \"y\": [2.5108093853405644, 7.519017134264494, 11.389486693915968, 16.0, 16.0, 16.0], \"yaxis\": \"y6\"}, {\"alignmentgroup\": \"True\", \"hovertemplate\": \"robot=rotator<br>grid=obstacle_room<br>battery_p=%{x}<br>value=%{y}<extra></extra>\", \"legendgroup\": \"rotator\", \"marker\": {\"color\": \"#EF553B\"}, \"name\": \"rotator\", \"offsetgroup\": \"rotator\", \"orientation\": \"v\", \"showlegend\": false, \"textposition\": \"auto\", \"type\": \"bar\", \"x\": [0.1, 0.3, 0.5, 0.1, 0.3, 0.5], \"xaxis\": \"x\", \"y\": [4.971589541071144, 14.667015316170165, 22.312796481316735, 5.76923076923077, 5.76923076923077, 5.76923076923077], \"yaxis\": \"y\"}, {\"alignmentgroup\": \"True\", \"hovertemplate\": \"robot=rotator<br>grid=no_obstacle_room<br>battery_p=%{x}<br>value=%{y}<extra></extra>\", \"legendgroup\": \"rotator\", \"marker\": {\"color\": \"#EF553B\"}, \"name\": \"rotator\", \"offsetgroup\": \"rotator\", \"orientation\": \"v\", \"showlegend\": false, \"textposition\": \"auto\", \"type\": \"bar\", \"x\": [0.1, 0.3, 0.5, 0.1, 0.3, 0.5], \"xaxis\": \"x2\", \"y\": [6.278892038151215, 16.533780002339064, 24.5653723797936, 4.761904761904761, 4.761904761904761, 4.761904761904761], \"yaxis\": \"y2\"}, {\"alignmentgroup\": \"True\", \"hovertemplate\": \"robot=rotator<br>grid=example-random-level<br>battery_p=%{x}<br>value=%{y}<extra></extra>\", \"legendgroup\": \"rotator\", \"marker\": {\"color\": \"#EF553B\"}, \"name\": \"rotator\", \"offsetgroup\": \"rotator\", \"orientation\": \"v\", \"showlegend\": false, \"textposition\": \"auto\", \"type\": \"bar\", \"x\": [0.1, 0.3, 0.5, 0.1, 0.3, 0.5], \"xaxis\": \"x3\", \"y\": [24.359277678564823, 46.96620525255401, 59.81826480983884, 1.016949152542373, 1.016949152542373, 1.016949152542373], \"yaxis\": \"y3\"}],\n",
       "                        {\"annotations\": [{\"font\": {}, \"showarrow\": false, \"text\": \"grid=obstacle_room\", \"x\": 0.15999999999999998, \"xanchor\": \"center\", \"xref\": \"paper\", \"y\": 0.144, \"yanchor\": \"bottom\", \"yref\": \"paper\"}, {\"font\": {}, \"showarrow\": false, \"text\": \"grid=no_obstacle_room\", \"x\": 0.49999999999999994, \"xanchor\": \"center\", \"xref\": \"paper\", \"y\": 0.144, \"yanchor\": \"bottom\", \"yref\": \"paper\"}, {\"font\": {}, \"showarrow\": false, \"text\": \"grid=example-random-level\", \"x\": 0.8399999999999999, \"xanchor\": \"center\", \"xref\": \"paper\", \"y\": 0.144, \"yanchor\": \"bottom\", \"yref\": \"paper\"}, {\"font\": {}, \"showarrow\": false, \"text\": \"grid=goal_room\", \"x\": 0.15999999999999998, \"xanchor\": \"center\", \"xref\": \"paper\", \"y\": 0.358, \"yanchor\": \"bottom\", \"yref\": \"paper\"}, {\"font\": {}, \"showarrow\": false, \"text\": \"grid=house\", \"x\": 0.49999999999999994, \"xanchor\": \"center\", \"xref\": \"paper\", \"y\": 0.358, \"yanchor\": \"bottom\", \"yref\": \"paper\"}, {\"font\": {}, \"showarrow\": false, \"text\": \"grid=snake\", \"x\": 0.8399999999999999, \"xanchor\": \"center\", \"xref\": \"paper\", \"y\": 0.358, \"yanchor\": \"bottom\", \"yref\": \"paper\"}, {\"font\": {}, \"showarrow\": false, \"text\": \"grid=example-random-house-2\", \"x\": 0.15999999999999998, \"xanchor\": \"center\", \"xref\": \"paper\", \"y\": 0.572, \"yanchor\": \"bottom\", \"yref\": \"paper\"}, {\"font\": {}, \"showarrow\": false, \"text\": \"grid=example-random-house-3\", \"x\": 0.49999999999999994, \"xanchor\": \"center\", \"xref\": \"paper\", \"y\": 0.572, \"yanchor\": \"bottom\", \"yref\": \"paper\"}, {\"font\": {}, \"showarrow\": false, \"text\": \"grid=example-random-house-4\", \"x\": 0.8399999999999999, \"xanchor\": \"center\", \"xref\": \"paper\", \"y\": 0.572, \"yanchor\": \"bottom\", \"yref\": \"paper\"}, {\"font\": {}, \"showarrow\": false, \"text\": \"grid=empty_big_room\", \"x\": 0.15999999999999998, \"xanchor\": \"center\", \"xref\": \"paper\", \"y\": 0.7859999999999999, \"yanchor\": \"bottom\", \"yref\": \"paper\"}, {\"font\": {}, \"showarrow\": false, \"text\": \"grid=example-random-house-0\", \"x\": 0.49999999999999994, \"xanchor\": \"center\", \"xref\": \"paper\", \"y\": 0.7859999999999999, \"yanchor\": \"bottom\", \"yref\": \"paper\"}, {\"font\": {}, \"showarrow\": false, \"text\": \"grid=example-random-house-1\", \"x\": 0.8399999999999999, \"xanchor\": \"center\", \"xref\": \"paper\", \"y\": 0.7859999999999999, \"yanchor\": \"bottom\", \"yref\": \"paper\"}, {\"font\": {}, \"showarrow\": false, \"text\": \"grid=death\", \"x\": 0.15999999999999998, \"xanchor\": \"center\", \"xref\": \"paper\", \"y\": 1.0, \"yanchor\": \"bottom\", \"yref\": \"paper\"}, {\"font\": {}, \"showarrow\": false, \"text\": \"grid=death_room\", \"x\": 0.49999999999999994, \"xanchor\": \"center\", \"xref\": \"paper\", \"y\": 1.0, \"yanchor\": \"bottom\", \"yref\": \"paper\"}, {\"font\": {}, \"showarrow\": false, \"text\": \"grid=empty_small_room\", \"x\": 0.8399999999999999, \"xanchor\": \"center\", \"xref\": \"paper\", \"y\": 1.0, \"yanchor\": \"bottom\", \"yref\": \"paper\"}], \"barmode\": \"group\", \"height\": 800, \"legend\": {\"title\": {\"text\": \"robot\"}, \"tracegroupgap\": 0}, \"margin\": {\"t\": 60}, \"template\": {\"data\": {\"bar\": [{\"error_x\": {\"color\": \"#2a3f5f\"}, \"error_y\": {\"color\": \"#2a3f5f\"}, \"marker\": {\"line\": {\"color\": \"#E5ECF6\", \"width\": 0.5}}, \"type\": \"bar\"}], \"barpolar\": [{\"marker\": {\"line\": {\"color\": \"#E5ECF6\", \"width\": 0.5}}, \"type\": \"barpolar\"}], \"carpet\": [{\"aaxis\": {\"endlinecolor\": \"#2a3f5f\", \"gridcolor\": \"white\", \"linecolor\": \"white\", \"minorgridcolor\": \"white\", \"startlinecolor\": \"#2a3f5f\"}, \"baxis\": {\"endlinecolor\": \"#2a3f5f\", \"gridcolor\": \"white\", \"linecolor\": \"white\", \"minorgridcolor\": \"white\", \"startlinecolor\": \"#2a3f5f\"}, \"type\": \"carpet\"}], \"choropleth\": [{\"colorbar\": {\"outlinewidth\": 0, \"ticks\": \"\"}, \"type\": \"choropleth\"}], \"contour\": [{\"colorbar\": {\"outlinewidth\": 0, \"ticks\": \"\"}, \"colorscale\": [[0.0, \"#0d0887\"], [0.1111111111111111, \"#46039f\"], [0.2222222222222222, \"#7201a8\"], [0.3333333333333333, \"#9c179e\"], [0.4444444444444444, \"#bd3786\"], [0.5555555555555556, \"#d8576b\"], [0.6666666666666666, \"#ed7953\"], [0.7777777777777778, \"#fb9f3a\"], [0.8888888888888888, \"#fdca26\"], [1.0, \"#f0f921\"]], \"type\": \"contour\"}], \"contourcarpet\": [{\"colorbar\": {\"outlinewidth\": 0, \"ticks\": \"\"}, \"type\": \"contourcarpet\"}], \"heatmap\": [{\"colorbar\": {\"outlinewidth\": 0, \"ticks\": \"\"}, \"colorscale\": [[0.0, \"#0d0887\"], [0.1111111111111111, \"#46039f\"], [0.2222222222222222, \"#7201a8\"], [0.3333333333333333, \"#9c179e\"], [0.4444444444444444, \"#bd3786\"], [0.5555555555555556, \"#d8576b\"], [0.6666666666666666, \"#ed7953\"], [0.7777777777777778, \"#fb9f3a\"], [0.8888888888888888, \"#fdca26\"], [1.0, \"#f0f921\"]], \"type\": \"heatmap\"}], \"heatmapgl\": [{\"colorbar\": {\"outlinewidth\": 0, \"ticks\": \"\"}, \"colorscale\": [[0.0, \"#0d0887\"], [0.1111111111111111, \"#46039f\"], [0.2222222222222222, \"#7201a8\"], [0.3333333333333333, \"#9c179e\"], [0.4444444444444444, \"#bd3786\"], [0.5555555555555556, \"#d8576b\"], [0.6666666666666666, \"#ed7953\"], [0.7777777777777778, \"#fb9f3a\"], [0.8888888888888888, \"#fdca26\"], [1.0, \"#f0f921\"]], \"type\": \"heatmapgl\"}], \"histogram\": [{\"marker\": {\"colorbar\": {\"outlinewidth\": 0, \"ticks\": \"\"}}, \"type\": \"histogram\"}], \"histogram2d\": [{\"colorbar\": {\"outlinewidth\": 0, \"ticks\": \"\"}, \"colorscale\": [[0.0, \"#0d0887\"], [0.1111111111111111, \"#46039f\"], [0.2222222222222222, \"#7201a8\"], [0.3333333333333333, \"#9c179e\"], [0.4444444444444444, \"#bd3786\"], [0.5555555555555556, \"#d8576b\"], [0.6666666666666666, \"#ed7953\"], [0.7777777777777778, \"#fb9f3a\"], [0.8888888888888888, \"#fdca26\"], [1.0, \"#f0f921\"]], \"type\": \"histogram2d\"}], \"histogram2dcontour\": [{\"colorbar\": {\"outlinewidth\": 0, \"ticks\": \"\"}, \"colorscale\": [[0.0, \"#0d0887\"], [0.1111111111111111, \"#46039f\"], [0.2222222222222222, \"#7201a8\"], [0.3333333333333333, \"#9c179e\"], [0.4444444444444444, \"#bd3786\"], [0.5555555555555556, \"#d8576b\"], [0.6666666666666666, \"#ed7953\"], [0.7777777777777778, \"#fb9f3a\"], [0.8888888888888888, \"#fdca26\"], [1.0, \"#f0f921\"]], \"type\": \"histogram2dcontour\"}], \"mesh3d\": [{\"colorbar\": {\"outlinewidth\": 0, \"ticks\": \"\"}, \"type\": \"mesh3d\"}], \"parcoords\": [{\"line\": {\"colorbar\": {\"outlinewidth\": 0, \"ticks\": \"\"}}, \"type\": \"parcoords\"}], \"pie\": [{\"automargin\": true, \"type\": \"pie\"}], \"scatter\": [{\"marker\": {\"colorbar\": {\"outlinewidth\": 0, \"ticks\": \"\"}}, \"type\": \"scatter\"}], \"scatter3d\": [{\"line\": {\"colorbar\": {\"outlinewidth\": 0, \"ticks\": \"\"}}, \"marker\": {\"colorbar\": {\"outlinewidth\": 0, \"ticks\": \"\"}}, \"type\": \"scatter3d\"}], \"scattercarpet\": [{\"marker\": {\"colorbar\": {\"outlinewidth\": 0, \"ticks\": \"\"}}, \"type\": \"scattercarpet\"}], \"scattergeo\": [{\"marker\": {\"colorbar\": {\"outlinewidth\": 0, \"ticks\": \"\"}}, \"type\": \"scattergeo\"}], \"scattergl\": [{\"marker\": {\"colorbar\": {\"outlinewidth\": 0, \"ticks\": \"\"}}, \"type\": \"scattergl\"}], \"scattermapbox\": [{\"marker\": {\"colorbar\": {\"outlinewidth\": 0, \"ticks\": \"\"}}, \"type\": \"scattermapbox\"}], \"scatterpolar\": [{\"marker\": {\"colorbar\": {\"outlinewidth\": 0, \"ticks\": \"\"}}, \"type\": \"scatterpolar\"}], \"scatterpolargl\": [{\"marker\": {\"colorbar\": {\"outlinewidth\": 0, \"ticks\": \"\"}}, \"type\": \"scatterpolargl\"}], \"scatterternary\": [{\"marker\": {\"colorbar\": {\"outlinewidth\": 0, \"ticks\": \"\"}}, \"type\": \"scatterternary\"}], \"surface\": [{\"colorbar\": {\"outlinewidth\": 0, \"ticks\": \"\"}, \"colorscale\": [[0.0, \"#0d0887\"], [0.1111111111111111, \"#46039f\"], [0.2222222222222222, \"#7201a8\"], [0.3333333333333333, \"#9c179e\"], [0.4444444444444444, \"#bd3786\"], [0.5555555555555556, \"#d8576b\"], [0.6666666666666666, \"#ed7953\"], [0.7777777777777778, \"#fb9f3a\"], [0.8888888888888888, \"#fdca26\"], [1.0, \"#f0f921\"]], \"type\": \"surface\"}], \"table\": [{\"cells\": {\"fill\": {\"color\": \"#EBF0F8\"}, \"line\": {\"color\": \"white\"}}, \"header\": {\"fill\": {\"color\": \"#C8D4E3\"}, \"line\": {\"color\": \"white\"}}, \"type\": \"table\"}]}, \"layout\": {\"annotationdefaults\": {\"arrowcolor\": \"#2a3f5f\", \"arrowhead\": 0, \"arrowwidth\": 1}, \"coloraxis\": {\"colorbar\": {\"outlinewidth\": 0, \"ticks\": \"\"}}, \"colorscale\": {\"diverging\": [[0, \"#8e0152\"], [0.1, \"#c51b7d\"], [0.2, \"#de77ae\"], [0.3, \"#f1b6da\"], [0.4, \"#fde0ef\"], [0.5, \"#f7f7f7\"], [0.6, \"#e6f5d0\"], [0.7, \"#b8e186\"], [0.8, \"#7fbc41\"], [0.9, \"#4d9221\"], [1, \"#276419\"]], \"sequential\": [[0.0, \"#0d0887\"], [0.1111111111111111, \"#46039f\"], [0.2222222222222222, \"#7201a8\"], [0.3333333333333333, \"#9c179e\"], [0.4444444444444444, \"#bd3786\"], [0.5555555555555556, \"#d8576b\"], [0.6666666666666666, \"#ed7953\"], [0.7777777777777778, \"#fb9f3a\"], [0.8888888888888888, \"#fdca26\"], [1.0, \"#f0f921\"]], \"sequentialminus\": [[0.0, \"#0d0887\"], [0.1111111111111111, \"#46039f\"], [0.2222222222222222, \"#7201a8\"], [0.3333333333333333, \"#9c179e\"], [0.4444444444444444, \"#bd3786\"], [0.5555555555555556, \"#d8576b\"], [0.6666666666666666, \"#ed7953\"], [0.7777777777777778, \"#fb9f3a\"], [0.8888888888888888, \"#fdca26\"], [1.0, \"#f0f921\"]]}, \"colorway\": [\"#636efa\", \"#EF553B\", \"#00cc96\", \"#ab63fa\", \"#FFA15A\", \"#19d3f3\", \"#FF6692\", \"#B6E880\", \"#FF97FF\", \"#FECB52\"], \"font\": {\"color\": \"#2a3f5f\"}, \"geo\": {\"bgcolor\": \"white\", \"lakecolor\": \"white\", \"landcolor\": \"#E5ECF6\", \"showlakes\": true, \"showland\": true, \"subunitcolor\": \"white\"}, \"hoverlabel\": {\"align\": \"left\"}, \"hovermode\": \"closest\", \"mapbox\": {\"style\": \"light\"}, \"paper_bgcolor\": \"white\", \"plot_bgcolor\": \"#E5ECF6\", \"polar\": {\"angularaxis\": {\"gridcolor\": \"white\", \"linecolor\": \"white\", \"ticks\": \"\"}, \"bgcolor\": \"#E5ECF6\", \"radialaxis\": {\"gridcolor\": \"white\", \"linecolor\": \"white\", \"ticks\": \"\"}}, \"scene\": {\"xaxis\": {\"backgroundcolor\": \"#E5ECF6\", \"gridcolor\": \"white\", \"gridwidth\": 2, \"linecolor\": \"white\", \"showbackground\": true, \"ticks\": \"\", \"zerolinecolor\": \"white\"}, \"yaxis\": {\"backgroundcolor\": \"#E5ECF6\", \"gridcolor\": \"white\", \"gridwidth\": 2, \"linecolor\": \"white\", \"showbackground\": true, \"ticks\": \"\", \"zerolinecolor\": \"white\"}, \"zaxis\": {\"backgroundcolor\": \"#E5ECF6\", \"gridcolor\": \"white\", \"gridwidth\": 2, \"linecolor\": \"white\", \"showbackground\": true, \"ticks\": \"\", \"zerolinecolor\": \"white\"}}, \"shapedefaults\": {\"line\": {\"color\": \"#2a3f5f\"}}, \"ternary\": {\"aaxis\": {\"gridcolor\": \"white\", \"linecolor\": \"white\", \"ticks\": \"\"}, \"baxis\": {\"gridcolor\": \"white\", \"linecolor\": \"white\", \"ticks\": \"\"}, \"bgcolor\": \"#E5ECF6\", \"caxis\": {\"gridcolor\": \"white\", \"linecolor\": \"white\", \"ticks\": \"\"}}, \"title\": {\"x\": 0.05}, \"xaxis\": {\"automargin\": true, \"gridcolor\": \"white\", \"linecolor\": \"white\", \"ticks\": \"\", \"title\": {\"standoff\": 15}, \"zerolinecolor\": \"white\", \"zerolinewidth\": 2}, \"yaxis\": {\"automargin\": true, \"gridcolor\": \"white\", \"linecolor\": \"white\", \"ticks\": \"\", \"title\": {\"standoff\": 15}, \"zerolinecolor\": \"white\", \"zerolinewidth\": 2}}}, \"width\": 800, \"xaxis\": {\"anchor\": \"y\", \"domain\": [0.0, 0.31999999999999995], \"title\": {\"text\": \"battery_p\"}}, \"xaxis10\": {\"anchor\": \"y10\", \"domain\": [0.0, 0.31999999999999995], \"matches\": \"x\", \"showticklabels\": false}, \"xaxis11\": {\"anchor\": \"y11\", \"domain\": [0.33999999999999997, 0.6599999999999999], \"matches\": \"x\", \"showticklabels\": false}, \"xaxis12\": {\"anchor\": \"y12\", \"domain\": [0.6799999999999999, 0.9999999999999999], \"matches\": \"x\", \"showticklabels\": false}, \"xaxis13\": {\"anchor\": \"y13\", \"domain\": [0.0, 0.31999999999999995], \"matches\": \"x\", \"showticklabels\": false}, \"xaxis14\": {\"anchor\": \"y14\", \"domain\": [0.33999999999999997, 0.6599999999999999], \"matches\": \"x\", \"showticklabels\": false}, \"xaxis15\": {\"anchor\": \"y15\", \"domain\": [0.6799999999999999, 0.9999999999999999], \"matches\": \"x\", \"showticklabels\": false}, \"xaxis2\": {\"anchor\": \"y2\", \"domain\": [0.33999999999999997, 0.6599999999999999], \"matches\": \"x\", \"title\": {\"text\": \"battery_p\"}}, \"xaxis3\": {\"anchor\": \"y3\", \"domain\": [0.6799999999999999, 0.9999999999999999], \"matches\": \"x\", \"title\": {\"text\": \"battery_p\"}}, \"xaxis4\": {\"anchor\": \"y4\", \"domain\": [0.0, 0.31999999999999995], \"matches\": \"x\", \"showticklabels\": false}, \"xaxis5\": {\"anchor\": \"y5\", \"domain\": [0.33999999999999997, 0.6599999999999999], \"matches\": \"x\", \"showticklabels\": false}, \"xaxis6\": {\"anchor\": \"y6\", \"domain\": [0.6799999999999999, 0.9999999999999999], \"matches\": \"x\", \"showticklabels\": false}, \"xaxis7\": {\"anchor\": \"y7\", \"domain\": [0.0, 0.31999999999999995], \"matches\": \"x\", \"showticklabels\": false}, \"xaxis8\": {\"anchor\": \"y8\", \"domain\": [0.33999999999999997, 0.6599999999999999], \"matches\": \"x\", \"showticklabels\": false}, \"xaxis9\": {\"anchor\": \"y9\", \"domain\": [0.6799999999999999, 0.9999999999999999], \"matches\": \"x\", \"showticklabels\": false}, \"yaxis\": {\"anchor\": \"x\", \"domain\": [0.0, 0.144], \"title\": {\"text\": \"value\"}}, \"yaxis10\": {\"anchor\": \"x10\", \"domain\": [0.6419999999999999, 0.7859999999999999], \"matches\": \"y\", \"title\": {\"text\": \"value\"}}, \"yaxis11\": {\"anchor\": \"x11\", \"domain\": [0.6419999999999999, 0.7859999999999999], \"matches\": \"y\", \"showticklabels\": false}, \"yaxis12\": {\"anchor\": \"x12\", \"domain\": [0.6419999999999999, 0.7859999999999999], \"matches\": \"y\", \"showticklabels\": false}, \"yaxis13\": {\"anchor\": \"x13\", \"domain\": [0.856, 1.0], \"matches\": \"y\", \"title\": {\"text\": \"value\"}}, \"yaxis14\": {\"anchor\": \"x14\", \"domain\": [0.856, 1.0], \"matches\": \"y\", \"showticklabels\": false}, \"yaxis15\": {\"anchor\": \"x15\", \"domain\": [0.856, 1.0], \"matches\": \"y\", \"showticklabels\": false}, \"yaxis2\": {\"anchor\": \"x2\", \"domain\": [0.0, 0.144], \"matches\": \"y\", \"showticklabels\": false}, \"yaxis3\": {\"anchor\": \"x3\", \"domain\": [0.0, 0.144], \"matches\": \"y\", \"showticklabels\": false}, \"yaxis4\": {\"anchor\": \"x4\", \"domain\": [0.214, 0.358], \"matches\": \"y\", \"title\": {\"text\": \"value\"}}, \"yaxis5\": {\"anchor\": \"x5\", \"domain\": [0.214, 0.358], \"matches\": \"y\", \"showticklabels\": false}, \"yaxis6\": {\"anchor\": \"x6\", \"domain\": [0.214, 0.358], \"matches\": \"y\", \"showticklabels\": false}, \"yaxis7\": {\"anchor\": \"x7\", \"domain\": [0.428, 0.572], \"matches\": \"y\", \"title\": {\"text\": \"value\"}}, \"yaxis8\": {\"anchor\": \"x8\", \"domain\": [0.428, 0.572], \"matches\": \"y\", \"showticklabels\": false}, \"yaxis9\": {\"anchor\": \"x9\", \"domain\": [0.428, 0.572], \"matches\": \"y\", \"showticklabels\": false}},\n",
       "                        {\"responsive\": true}\n",
       "                    ).then(function(){\n",
       "                            \n",
       "var gd = document.getElementById('26ccdcad-1a5c-4c23-bd10-2ed82a4ab1de');\n",
       "var x = new MutationObserver(function (mutations, observer) {{\n",
       "        var display = window.getComputedStyle(gd).display;\n",
       "        if (!display || display === 'none') {{\n",
       "            console.log([gd, 'removed!']);\n",
       "            Plotly.purge(gd);\n",
       "            observer.disconnect();\n",
       "        }}\n",
       "}});\n",
       "\n",
       "// Listen for the removal of the full notebook cells\n",
       "var notebookContainer = gd.closest('#notebook-container');\n",
       "if (notebookContainer) {{\n",
       "    x.observe(notebookContainer, {childList: true});\n",
       "}}\n",
       "\n",
       "// Listen for the clearing of the current output cell\n",
       "var outputEl = gd.closest('.output');\n",
       "if (outputEl) {{\n",
       "    x.observe(outputEl, {childList: true});\n",
       "}}\n",
       "\n",
       "                        })\n",
       "                };\n",
       "                });\n",
       "            </script>\n",
       "        </div>"
      ]
     },
     "metadata": {},
     "output_type": "display_data"
    }
   ],
   "source": [
    "fig = px.bar(df, x=\"battery_p\", y=[\"mean_efficiency\",\"mean_cleaned\"], color=\"robot\", barmode=\"group\",\n",
    "             facet_col=\"grid\",facet_col_wrap=3,\n",
    "              width=800, height=800)\n",
    "                \n",
    "fig.show()"
   ]
  },
  {
   "cell_type": "code",
   "execution_count": 56,
   "id": "324ac4c6",
   "metadata": {},
   "outputs": [],
   "source": [
    "# df['mean_efficiency']+CI"
   ]
  },
  {
   "cell_type": "code",
   "execution_count": 66,
   "id": "0a58f051",
   "metadata": {},
   "outputs": [
    {
     "data": {
      "text/plain": [
       "numpy.float64"
      ]
     },
     "execution_count": 66,
     "metadata": {},
     "output_type": "execute_result"
    }
   ],
   "source": [
    "type(df.battery_p[0])"
   ]
  },
  {
   "cell_type": "code",
   "execution_count": null,
   "id": "d8c55392",
   "metadata": {},
   "outputs": [],
   "source": []
  }
 ],
 "metadata": {
  "kernelspec": {
   "display_name": "Python 3 (ipykernel)",
   "language": "python",
   "name": "python3"
  },
  "language_info": {
   "codemirror_mode": {
    "name": "ipython",
    "version": 3
   },
   "file_extension": ".py",
   "mimetype": "text/x-python",
   "name": "python",
   "nbconvert_exporter": "python",
   "pygments_lexer": "ipython3",
   "version": "3.8.3"
  }
 },
 "nbformat": 4,
 "nbformat_minor": 5
}